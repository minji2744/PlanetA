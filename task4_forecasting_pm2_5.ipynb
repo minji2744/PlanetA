{
  "nbformat": 4,
  "nbformat_minor": 0,
  "metadata": {
    "colab": {
      "name": "task4_forecasting_pm2.5.ipynb",
      "provenance": []
    },
    "kernelspec": {
      "name": "python3",
      "display_name": "Python 3"
    },
    "language_info": {
      "name": "python"
    },
    "accelerator": "GPU"
  },
  "cells": [
    {
      "cell_type": "code",
      "metadata": {
        "colab": {
          "base_uri": "https://localhost:8080/"
        },
        "id": "uo8T-sDuYgGR",
        "outputId": "75896ff5-f7e7-414b-af6d-7ef192ec1fd1"
      },
      "source": [
        "from google.colab import drive\n",
        "drive.mount('/content/drive')"
      ],
      "execution_count": 1,
      "outputs": [
        {
          "output_type": "stream",
          "name": "stdout",
          "text": [
            "Mounted at /content/drive\n"
          ]
        }
      ]
    },
    {
      "cell_type": "markdown",
      "metadata": {
        "id": "57bVV-WNGBYU"
      },
      "source": [
        "# SNU PLANETA - forecasting PM2.5 24hours later"
      ]
    },
    {
      "cell_type": "markdown",
      "metadata": {
        "id": "gG7Iwz-fHD7r"
      },
      "source": [
        "- best RMSE : 15.05"
      ]
    },
    {
      "cell_type": "markdown",
      "metadata": {
        "id": "K4aR7MUqF92s"
      },
      "source": [
        "## 1. Data load"
      ]
    },
    {
      "cell_type": "code",
      "metadata": {
        "colab": {
          "base_uri": "https://localhost:8080/"
        },
        "id": "HCPLRWnAYoPF",
        "outputId": "ae5dc815-609f-4b5c-b9b8-888cbf884207"
      },
      "source": [
        "!gdown https://drive.google.com/u/0/uc?id=1BDLRo8NIVk9WEhhr5vW_C9n5zqckGLMH\n",
        "!7z x '/content/4.______.zip' -odataset"
      ],
      "execution_count": 2,
      "outputs": [
        {
          "output_type": "stream",
          "name": "stdout",
          "text": [
            "Downloading...\n",
            "From: https://drive.google.com/u/0/uc?id=1BDLRo8NIVk9WEhhr5vW_C9n5zqckGLMH\n",
            "To: /content/4.______.zip\n",
            "\r0.00B [00:00, ?B/s]\r12.1MB [00:00, 118MB/s]\r18.7MB [00:00, 115MB/s]\n",
            "\n",
            "7-Zip [64] 16.02 : Copyright (c) 1999-2016 Igor Pavlov : 2016-05-21\n",
            "p7zip Version 16.02 (locale=en_US.UTF-8,Utf16=on,HugeFiles=on,64 bits,2 CPUs Intel(R) Xeon(R) CPU @ 2.30GHz (306F0),ASM,AES-NI)\n",
            "\n",
            "Scanning the drive for archives:\n",
            "  0M Scan /content/\b\b\b\b\b\b\b\b\b\b\b\b\b\b\b\b\b\b\b                   \b\b\b\b\b\b\b\b\b\b\b\b\b\b\b\b\b\b\b1 file, 18726405 bytes (18 MiB)\n",
            "\n",
            "Extracting archive: /content/4.______.zip\n",
            "--\n",
            "Path = /content/4.______.zip\n",
            "Type = zip\n",
            "Physical Size = 18726405\n",
            "\n",
            "  0%\b\b\b\b    \b\b\b\b 21% 7 - train/train_input_aws.csv\b\b\b\b\b\b\b\b\b\b\b\b\b\b\b\b\b\b\b\b\b\b\b\b\b\b\b\b\b\b\b\b\b\b                                  \b\b\b\b\b\b\b\b\b\b\b\b\b\b\b\b\b\b\b\b\b\b\b\b\b\b\b\b\b\b\b\b\b\b 42% 7 - train/train_input_aws.csv\b\b\b\b\b\b\b\b\b\b\b\b\b\b\b\b\b\b\b\b\b\b\b\b\b\b\b\b\b\b\b\b\b\b                                  \b\b\b\b\b\b\b\b\b\b\b\b\b\b\b\b\b\b\b\b\b\b\b\b\b\b\b\b\b\b\b\b\b\b 66% 8 - train/train_input_pm25.csv\b\b\b\b\b\b\b\b\b\b\b\b\b\b\b\b\b\b\b\b\b\b\b\b\b\b\b\b\b\b\b\b\b\b\b                                   \b\b\b\b\b\b\b\b\b\b\b\b\b\b\b\b\b\b\b\b\b\b\b\b\b\b\b\b\b\b\b\b\b\b\b 90% 9 - train/train_output_pm25.csv\b\b\b\b\b\b\b\b\b\b\b\b\b\b\b\b\b\b\b\b\b\b\b\b\b\b\b\b\b\b\b\b\b\b\b\b                                    \b\b\b\b\b\b\b\b\b\b\b\b\b\b\b\b\b\b\b\b\b\b\b\b\b\b\b\b\b\b\b\b\b\b\b\bEverything is Ok\n",
            "\n",
            "Folders: 2\n",
            "Files: 8\n",
            "Size:       119055525\n",
            "Compressed: 18726405\n"
          ]
        }
      ]
    },
    {
      "cell_type": "code",
      "metadata": {
        "id": "M4-zh0k9Ys6W"
      },
      "source": [
        "%%capture\n",
        "!pip install geopandas\n",
        "import geopandas as gpd\n",
        "from shapely.geometry import Polygon, LineString, Point\n",
        "import folium\n",
        "import pandas as pd\n",
        "import numpy as np\n",
        "from tqdm import tqdm\n",
        "import tensorflow as tf\n",
        "import datetime\n",
        "import matplotlib.pyplot as plt\n",
        "\n",
        "import os\n",
        "\n",
        "tf.random.set_seed(7)"
      ],
      "execution_count": 164,
      "outputs": []
    },
    {
      "cell_type": "code",
      "metadata": {
        "id": "U1tGCfP8YvXw"
      },
      "source": [
        "data_dir = '/content/dataset'\n",
        "\n",
        "# 훈련, 검증 데이터 경로 지정\n",
        "train_input_aws_path = os.path.join(data_dir, 'train/train_input_aws.csv')\n",
        "train_input_pm25_path = os.path.join(data_dir, 'train/train_input_pm25.csv')\n",
        "train_output_path = os.path.join(data_dir, 'train/train_output_pm25.csv')\n",
        "\n",
        "test_input_pm25_path = os.path.join(data_dir, 'test/test_input_pm25.csv')\n",
        "test_input_aws_path = os.path.join(data_dir, 'test/test_input_aws.csv')\n",
        "test_output_path = os.path.join(data_dir, 'test/sample_answer.csv')\n",
        "\n",
        "# 지정한 경로에서 데이터 불러오기\n",
        "# 훈련 데이터\n",
        "train_input_aws_df = pd.read_csv(train_input_aws_path)\n",
        "train_input_pm25_df = pd.read_csv(train_input_pm25_path)\n",
        "train_output_df = pd.read_csv(train_output_path)\n",
        "\n",
        "# 검증 데이터\n",
        "test_input_aws_df = pd.read_csv(test_input_aws_path)\n",
        "test_input_pm25_df = pd.read_csv(test_input_pm25_path)\n",
        "submission = pd.read_csv(test_output_path)\n",
        "\n",
        "# 장소 정보 불러오기\n",
        "location_path = os.path.join(data_dir, 'train/locations.csv')\n",
        "location_df = pd.read_csv(location_path)"
      ],
      "execution_count": 379,
      "outputs": []
    },
    {
      "cell_type": "markdown",
      "metadata": {
        "id": "tHlpFibmHNSE"
      },
      "source": [
        "## 2. Data Preprocess"
      ]
    },
    {
      "cell_type": "code",
      "metadata": {
        "id": "7wNByPMXYvdj"
      },
      "source": [
        "# 장소카테고리별로 그룹\n",
        "grouped_location_df = location_df.groupby('category')\n",
        "\n",
        "# 장소를 aws, pm25로 나누어주기\n",
        "aws_loc_df = grouped_location_df.get_group('aws').reset_index(drop=True)\n",
        "pm25_loc_df = grouped_location_df.get_group('pm25').reset_index(drop=True)"
      ],
      "execution_count": 380,
      "outputs": []
    },
    {
      "cell_type": "code",
      "metadata": {
        "id": "iicyfdnKfIuf"
      },
      "source": [
        "# GeoDataFrame으로 변환\n",
        "aws_loc_gdf = gpd.GeoDataFrame(aws_loc_df, geometry=gpd.points_from_xy(aws_loc_df.longitude, aws_loc_df.latitude))\n",
        "pm25_loc_gdf = gpd.GeoDataFrame(pm25_loc_df, geometry=gpd.points_from_xy(pm25_loc_df.longitude, pm25_loc_df.latitude))"
      ],
      "execution_count": 381,
      "outputs": []
    },
    {
      "cell_type": "code",
      "metadata": {
        "colab": {
          "base_uri": "https://localhost:8080/"
        },
        "id": "_3Wh9IOXgGBS",
        "outputId": "eef75d46-d715-4f01-dbf3-1e94b9cdbe69"
      },
      "source": [
        "# 좌표계 변환\n",
        "aws_loc_gdf.crs = {'init':'epsg:4326'}\n",
        "pm25_loc_gdf.crs = {'init':'epsg:4326'}"
      ],
      "execution_count": 383,
      "outputs": [
        {
          "output_type": "stream",
          "name": "stderr",
          "text": [
            "/usr/local/lib/python3.7/dist-packages/pyproj/crs/crs.py:131: FutureWarning: '+init=<authority>:<code>' syntax is deprecated. '<authority>:<code>' is the preferred initialization method. When making the change, be mindful of axis order changes: https://pyproj4.github.io/pyproj/stable/gotchas.html#axis-order-changes-in-proj-6\n",
            "  in_crs_string = _prepare_from_proj_string(in_crs_string)\n"
          ]
        }
      ]
    },
    {
      "cell_type": "code",
      "metadata": {
        "colab": {
          "base_uri": "https://localhost:8080/"
        },
        "id": "U0pay4vFgVXH",
        "outputId": "1dee8460-1046-4825-ae39-da82c05f7cf5"
      },
      "source": [
        "# 미터 좌표계로 변환\n",
        "aws_loc_gdf = aws_loc_gdf.to_crs({'init':'epsg:5179'})\n",
        "pm25_loc_gdf = pm25_loc_gdf.to_crs({'init':'epsg:5179'})"
      ],
      "execution_count": 384,
      "outputs": [
        {
          "output_type": "stream",
          "name": "stderr",
          "text": [
            "/usr/local/lib/python3.7/dist-packages/pyproj/crs/crs.py:131: FutureWarning: '+init=<authority>:<code>' syntax is deprecated. '<authority>:<code>' is the preferred initialization method. When making the change, be mindful of axis order changes: https://pyproj4.github.io/pyproj/stable/gotchas.html#axis-order-changes-in-proj-6\n",
            "  in_crs_string = _prepare_from_proj_string(in_crs_string)\n"
          ]
        }
      ]
    },
    {
      "cell_type": "code",
      "metadata": {
        "colab": {
          "base_uri": "https://localhost:8080/",
          "height": 793
        },
        "id": "MqBf0i2JhgJn",
        "outputId": "e6faa9a4-c894-42a2-fc41-773017325bd5"
      },
      "source": [
        "aws_loc_df"
      ],
      "execution_count": 385,
      "outputs": [
        {
          "output_type": "execute_result",
          "data": {
            "text/html": [
              "<div>\n",
              "<style scoped>\n",
              "    .dataframe tbody tr th:only-of-type {\n",
              "        vertical-align: middle;\n",
              "    }\n",
              "\n",
              "    .dataframe tbody tr th {\n",
              "        vertical-align: top;\n",
              "    }\n",
              "\n",
              "    .dataframe thead th {\n",
              "        text-align: right;\n",
              "    }\n",
              "</style>\n",
              "<table border=\"1\" class=\"dataframe\">\n",
              "  <thead>\n",
              "    <tr style=\"text-align: right;\">\n",
              "      <th></th>\n",
              "      <th>category</th>\n",
              "      <th>loc_code</th>\n",
              "      <th>loc_name</th>\n",
              "      <th>latitude</th>\n",
              "      <th>longitude</th>\n",
              "      <th>geometry</th>\n",
              "    </tr>\n",
              "  </thead>\n",
              "  <tbody>\n",
              "    <tr>\n",
              "      <th>0</th>\n",
              "      <td>aws</td>\n",
              "      <td>400</td>\n",
              "      <td>강남</td>\n",
              "      <td>37.49820</td>\n",
              "      <td>127.08162</td>\n",
              "      <td>POINT (127.08162 37.49820)</td>\n",
              "    </tr>\n",
              "    <tr>\n",
              "      <th>1</th>\n",
              "      <td>aws</td>\n",
              "      <td>402</td>\n",
              "      <td>강동</td>\n",
              "      <td>37.55556</td>\n",
              "      <td>127.14498</td>\n",
              "      <td>POINT (127.14498 37.55556)</td>\n",
              "    </tr>\n",
              "    <tr>\n",
              "      <th>2</th>\n",
              "      <td>aws</td>\n",
              "      <td>424</td>\n",
              "      <td>강북</td>\n",
              "      <td>37.63972</td>\n",
              "      <td>127.02576</td>\n",
              "      <td>POINT (127.02576 37.63972)</td>\n",
              "    </tr>\n",
              "    <tr>\n",
              "      <th>3</th>\n",
              "      <td>aws</td>\n",
              "      <td>404</td>\n",
              "      <td>강서</td>\n",
              "      <td>37.57390</td>\n",
              "      <td>126.82953</td>\n",
              "      <td>POINT (126.82953 37.57390)</td>\n",
              "    </tr>\n",
              "    <tr>\n",
              "      <th>4</th>\n",
              "      <td>aws</td>\n",
              "      <td>509</td>\n",
              "      <td>관악</td>\n",
              "      <td>37.45284</td>\n",
              "      <td>126.95015</td>\n",
              "      <td>POINT (126.95015 37.45284)</td>\n",
              "    </tr>\n",
              "    <tr>\n",
              "      <th>5</th>\n",
              "      <td>aws</td>\n",
              "      <td>423</td>\n",
              "      <td>구로</td>\n",
              "      <td>37.49328</td>\n",
              "      <td>126.82629</td>\n",
              "      <td>POINT (126.82629 37.49328)</td>\n",
              "    </tr>\n",
              "    <tr>\n",
              "      <th>6</th>\n",
              "      <td>aws</td>\n",
              "      <td>417</td>\n",
              "      <td>금천</td>\n",
              "      <td>37.49328</td>\n",
              "      <td>126.82630</td>\n",
              "      <td>POINT (126.82630 37.49328)</td>\n",
              "    </tr>\n",
              "    <tr>\n",
              "      <th>7</th>\n",
              "      <td>aws</td>\n",
              "      <td>425</td>\n",
              "      <td>남현</td>\n",
              "      <td>37.46347</td>\n",
              "      <td>126.98154</td>\n",
              "      <td>POINT (126.98154 37.46347)</td>\n",
              "    </tr>\n",
              "    <tr>\n",
              "      <th>8</th>\n",
              "      <td>aws</td>\n",
              "      <td>407</td>\n",
              "      <td>노원</td>\n",
              "      <td>37.62186</td>\n",
              "      <td>127.09192</td>\n",
              "      <td>POINT (127.09192 37.62186)</td>\n",
              "    </tr>\n",
              "    <tr>\n",
              "      <th>9</th>\n",
              "      <td>aws</td>\n",
              "      <td>406</td>\n",
              "      <td>도봉</td>\n",
              "      <td>37.66612</td>\n",
              "      <td>127.02947</td>\n",
              "      <td>POINT (127.02947 37.66612)</td>\n",
              "    </tr>\n",
              "    <tr>\n",
              "      <th>10</th>\n",
              "      <td>aws</td>\n",
              "      <td>408</td>\n",
              "      <td>동대문</td>\n",
              "      <td>37.58463</td>\n",
              "      <td>127.06036</td>\n",
              "      <td>POINT (127.06036 37.58463)</td>\n",
              "    </tr>\n",
              "    <tr>\n",
              "      <th>11</th>\n",
              "      <td>aws</td>\n",
              "      <td>411</td>\n",
              "      <td>마포</td>\n",
              "      <td>37.55165</td>\n",
              "      <td>126.92915</td>\n",
              "      <td>POINT (126.92915 37.55165)</td>\n",
              "    </tr>\n",
              "    <tr>\n",
              "      <th>12</th>\n",
              "      <td>aws</td>\n",
              "      <td>412</td>\n",
              "      <td>서대문</td>\n",
              "      <td>37.57047</td>\n",
              "      <td>126.94078</td>\n",
              "      <td>POINT (126.94078 37.57047)</td>\n",
              "    </tr>\n",
              "    <tr>\n",
              "      <th>13</th>\n",
              "      <td>aws</td>\n",
              "      <td>401</td>\n",
              "      <td>서초</td>\n",
              "      <td>37.48462</td>\n",
              "      <td>127.02601</td>\n",
              "      <td>POINT (127.02601 37.48462)</td>\n",
              "    </tr>\n",
              "    <tr>\n",
              "      <th>14</th>\n",
              "      <td>aws</td>\n",
              "      <td>421</td>\n",
              "      <td>성동</td>\n",
              "      <td>37.54721</td>\n",
              "      <td>127.03885</td>\n",
              "      <td>POINT (127.03885 37.54721)</td>\n",
              "    </tr>\n",
              "    <tr>\n",
              "      <th>15</th>\n",
              "      <td>aws</td>\n",
              "      <td>414</td>\n",
              "      <td>성북</td>\n",
              "      <td>37.61172</td>\n",
              "      <td>126.99944</td>\n",
              "      <td>POINT (126.99944 37.61172)</td>\n",
              "    </tr>\n",
              "    <tr>\n",
              "      <th>16</th>\n",
              "      <td>aws</td>\n",
              "      <td>403</td>\n",
              "      <td>송파</td>\n",
              "      <td>37.51151</td>\n",
              "      <td>127.09670</td>\n",
              "      <td>POINT (127.09670 37.51151)</td>\n",
              "    </tr>\n",
              "    <tr>\n",
              "      <th>17</th>\n",
              "      <td>aws</td>\n",
              "      <td>405</td>\n",
              "      <td>양천</td>\n",
              "      <td>37.52961</td>\n",
              "      <td>126.87820</td>\n",
              "      <td>POINT (126.87820 37.52961)</td>\n",
              "    </tr>\n",
              "    <tr>\n",
              "      <th>18</th>\n",
              "      <td>aws</td>\n",
              "      <td>510</td>\n",
              "      <td>영등포</td>\n",
              "      <td>37.52706</td>\n",
              "      <td>126.90705</td>\n",
              "      <td>POINT (126.90705 37.52706)</td>\n",
              "    </tr>\n",
              "    <tr>\n",
              "      <th>19</th>\n",
              "      <td>aws</td>\n",
              "      <td>415</td>\n",
              "      <td>용산</td>\n",
              "      <td>37.51955</td>\n",
              "      <td>126.97629</td>\n",
              "      <td>POINT (126.97629 37.51955)</td>\n",
              "    </tr>\n",
              "    <tr>\n",
              "      <th>20</th>\n",
              "      <td>aws</td>\n",
              "      <td>416</td>\n",
              "      <td>은평</td>\n",
              "      <td>37.64648</td>\n",
              "      <td>126.94260</td>\n",
              "      <td>POINT (126.94260 37.64648)</td>\n",
              "    </tr>\n",
              "    <tr>\n",
              "      <th>21</th>\n",
              "      <td>aws</td>\n",
              "      <td>409</td>\n",
              "      <td>중랑</td>\n",
              "      <td>37.58551</td>\n",
              "      <td>127.08682</td>\n",
              "      <td>POINT (127.08682 37.58551)</td>\n",
              "    </tr>\n",
              "    <tr>\n",
              "      <th>22</th>\n",
              "      <td>aws</td>\n",
              "      <td>418</td>\n",
              "      <td>한강</td>\n",
              "      <td>37.52489</td>\n",
              "      <td>126.93904</td>\n",
              "      <td>POINT (126.93904 37.52489)</td>\n",
              "    </tr>\n",
              "    <tr>\n",
              "      <th>23</th>\n",
              "      <td>aws</td>\n",
              "      <td>889</td>\n",
              "      <td>현충원</td>\n",
              "      <td>37.50036</td>\n",
              "      <td>126.97652</td>\n",
              "      <td>POINT (126.97652 37.50036)</td>\n",
              "    </tr>\n",
              "  </tbody>\n",
              "</table>\n",
              "</div>"
            ],
            "text/plain": [
              "   category  loc_code loc_name  latitude  longitude                    geometry\n",
              "0       aws       400       강남  37.49820  127.08162  POINT (127.08162 37.49820)\n",
              "1       aws       402       강동  37.55556  127.14498  POINT (127.14498 37.55556)\n",
              "2       aws       424       강북  37.63972  127.02576  POINT (127.02576 37.63972)\n",
              "3       aws       404       강서  37.57390  126.82953  POINT (126.82953 37.57390)\n",
              "4       aws       509       관악  37.45284  126.95015  POINT (126.95015 37.45284)\n",
              "5       aws       423       구로  37.49328  126.82629  POINT (126.82629 37.49328)\n",
              "6       aws       417       금천  37.49328  126.82630  POINT (126.82630 37.49328)\n",
              "7       aws       425       남현  37.46347  126.98154  POINT (126.98154 37.46347)\n",
              "8       aws       407       노원  37.62186  127.09192  POINT (127.09192 37.62186)\n",
              "9       aws       406       도봉  37.66612  127.02947  POINT (127.02947 37.66612)\n",
              "10      aws       408      동대문  37.58463  127.06036  POINT (127.06036 37.58463)\n",
              "11      aws       411       마포  37.55165  126.92915  POINT (126.92915 37.55165)\n",
              "12      aws       412      서대문  37.57047  126.94078  POINT (126.94078 37.57047)\n",
              "13      aws       401       서초  37.48462  127.02601  POINT (127.02601 37.48462)\n",
              "14      aws       421       성동  37.54721  127.03885  POINT (127.03885 37.54721)\n",
              "15      aws       414       성북  37.61172  126.99944  POINT (126.99944 37.61172)\n",
              "16      aws       403       송파  37.51151  127.09670  POINT (127.09670 37.51151)\n",
              "17      aws       405       양천  37.52961  126.87820  POINT (126.87820 37.52961)\n",
              "18      aws       510     영등포   37.52706  126.90705  POINT (126.90705 37.52706)\n",
              "19      aws       415       용산  37.51955  126.97629  POINT (126.97629 37.51955)\n",
              "20      aws       416       은평  37.64648  126.94260  POINT (126.94260 37.64648)\n",
              "21      aws       409       중랑  37.58551  127.08682  POINT (127.08682 37.58551)\n",
              "22      aws       418       한강  37.52489  126.93904  POINT (126.93904 37.52489)\n",
              "23      aws       889      현충원  37.50036  126.97652  POINT (126.97652 37.50036)"
            ]
          },
          "metadata": {},
          "execution_count": 385
        }
      ]
    },
    {
      "cell_type": "code",
      "metadata": {
        "colab": {
          "base_uri": "https://localhost:8080/",
          "height": 613
        },
        "id": "VqKV2GAIglLZ",
        "outputId": "4c63383b-eeed-4278-beda-9941dcf2abce"
      },
      "source": [
        "# aws_loc_df 시각화\n",
        "locations = aws_loc_df[['latitude', 'longitude']]\n",
        "locationlist = locations.values.tolist()\n",
        "\n",
        "center = locationlist[19]  # 용산 aws 를 중심으로 folium map\n",
        "map = folium.Map(location=center, zoom_start=12)\n",
        "for point in range(0, len(locationlist)):\n",
        "    folium.Marker(locationlist[point], popup=aws_loc_df['loc_name'][point]).add_to(map)\n",
        "map"
      ],
      "execution_count": 386,
      "outputs": [
        {
          "output_type": "execute_result",
          "data": {
            "text/html": [
              "<div style=\"width:100%;\"><div style=\"position:relative;width:100%;height:0;padding-bottom:60%;\"><span style=\"color:#565656\">Make this Notebook Trusted to load map: File -> Trust Notebook</span><iframe src=\"about:blank\" style=\"position:absolute;width:100%;height:100%;left:0;top:0;border:none !important;\" data-html=%3C%21DOCTYPE%20html%3E%0A%3Chead%3E%20%20%20%20%0A%20%20%20%20%3Cmeta%20http-equiv%3D%22content-type%22%20content%3D%22text/html%3B%20charset%3DUTF-8%22%20/%3E%0A%20%20%20%20%3Cscript%3EL_PREFER_CANVAS%3Dfalse%3B%20L_NO_TOUCH%3Dfalse%3B%20L_DISABLE_3D%3Dfalse%3B%3C/script%3E%0A%20%20%20%20%3Cscript%20src%3D%22https%3A//cdn.jsdelivr.net/npm/leaflet%401.4.0/dist/leaflet.js%22%3E%3C/script%3E%0A%20%20%20%20%3Cscript%20src%3D%22https%3A//code.jquery.com/jquery-1.12.4.min.js%22%3E%3C/script%3E%0A%20%20%20%20%3Cscript%20src%3D%22https%3A//maxcdn.bootstrapcdn.com/bootstrap/3.2.0/js/bootstrap.min.js%22%3E%3C/script%3E%0A%20%20%20%20%3Cscript%20src%3D%22https%3A//cdnjs.cloudflare.com/ajax/libs/Leaflet.awesome-markers/2.0.2/leaflet.awesome-markers.js%22%3E%3C/script%3E%0A%20%20%20%20%3Clink%20rel%3D%22stylesheet%22%20href%3D%22https%3A//cdn.jsdelivr.net/npm/leaflet%401.4.0/dist/leaflet.css%22/%3E%0A%20%20%20%20%3Clink%20rel%3D%22stylesheet%22%20href%3D%22https%3A//maxcdn.bootstrapcdn.com/bootstrap/3.2.0/css/bootstrap.min.css%22/%3E%0A%20%20%20%20%3Clink%20rel%3D%22stylesheet%22%20href%3D%22https%3A//maxcdn.bootstrapcdn.com/bootstrap/3.2.0/css/bootstrap-theme.min.css%22/%3E%0A%20%20%20%20%3Clink%20rel%3D%22stylesheet%22%20href%3D%22https%3A//maxcdn.bootstrapcdn.com/font-awesome/4.6.3/css/font-awesome.min.css%22/%3E%0A%20%20%20%20%3Clink%20rel%3D%22stylesheet%22%20href%3D%22https%3A//cdnjs.cloudflare.com/ajax/libs/Leaflet.awesome-markers/2.0.2/leaflet.awesome-markers.css%22/%3E%0A%20%20%20%20%3Clink%20rel%3D%22stylesheet%22%20href%3D%22https%3A//rawcdn.githack.com/python-visualization/folium/master/folium/templates/leaflet.awesome.rotate.css%22/%3E%0A%20%20%20%20%3Cstyle%3Ehtml%2C%20body%20%7Bwidth%3A%20100%25%3Bheight%3A%20100%25%3Bmargin%3A%200%3Bpadding%3A%200%3B%7D%3C/style%3E%0A%20%20%20%20%3Cstyle%3E%23map%20%7Bposition%3Aabsolute%3Btop%3A0%3Bbottom%3A0%3Bright%3A0%3Bleft%3A0%3B%7D%3C/style%3E%0A%20%20%20%20%0A%20%20%20%20%3Cmeta%20name%3D%22viewport%22%20content%3D%22width%3Ddevice-width%2C%0A%20%20%20%20%20%20%20%20initial-scale%3D1.0%2C%20maximum-scale%3D1.0%2C%20user-scalable%3Dno%22%20/%3E%0A%20%20%20%20%3Cstyle%3E%23map_3fbff715f71049a9b1c4b8e74f315e4a%20%7B%0A%20%20%20%20%20%20%20%20position%3A%20relative%3B%0A%20%20%20%20%20%20%20%20width%3A%20100.0%25%3B%0A%20%20%20%20%20%20%20%20height%3A%20100.0%25%3B%0A%20%20%20%20%20%20%20%20left%3A%200.0%25%3B%0A%20%20%20%20%20%20%20%20top%3A%200.0%25%3B%0A%20%20%20%20%20%20%20%20%7D%0A%20%20%20%20%3C/style%3E%0A%3C/head%3E%0A%3Cbody%3E%20%20%20%20%0A%20%20%20%20%0A%20%20%20%20%3Cdiv%20class%3D%22folium-map%22%20id%3D%22map_3fbff715f71049a9b1c4b8e74f315e4a%22%20%3E%3C/div%3E%0A%3C/body%3E%0A%3Cscript%3E%20%20%20%20%0A%20%20%20%20%0A%20%20%20%20%0A%20%20%20%20%20%20%20%20var%20bounds%20%3D%20null%3B%0A%20%20%20%20%0A%0A%20%20%20%20var%20map_3fbff715f71049a9b1c4b8e74f315e4a%20%3D%20L.map%28%0A%20%20%20%20%20%20%20%20%27map_3fbff715f71049a9b1c4b8e74f315e4a%27%2C%20%7B%0A%20%20%20%20%20%20%20%20center%3A%20%5B37.51955%2C%20126.97628999999999%5D%2C%0A%20%20%20%20%20%20%20%20zoom%3A%2012%2C%0A%20%20%20%20%20%20%20%20maxBounds%3A%20bounds%2C%0A%20%20%20%20%20%20%20%20layers%3A%20%5B%5D%2C%0A%20%20%20%20%20%20%20%20worldCopyJump%3A%20false%2C%0A%20%20%20%20%20%20%20%20crs%3A%20L.CRS.EPSG3857%2C%0A%20%20%20%20%20%20%20%20zoomControl%3A%20true%2C%0A%20%20%20%20%20%20%20%20%7D%29%3B%0A%0A%0A%20%20%20%20%0A%20%20%20%20var%20tile_layer_e5adb7ab7df84dc7be4930de6428855d%20%3D%20L.tileLayer%28%0A%20%20%20%20%20%20%20%20%27https%3A//%7Bs%7D.tile.openstreetmap.org/%7Bz%7D/%7Bx%7D/%7By%7D.png%27%2C%0A%20%20%20%20%20%20%20%20%7B%0A%20%20%20%20%20%20%20%20%22attribution%22%3A%20null%2C%0A%20%20%20%20%20%20%20%20%22detectRetina%22%3A%20false%2C%0A%20%20%20%20%20%20%20%20%22maxNativeZoom%22%3A%2018%2C%0A%20%20%20%20%20%20%20%20%22maxZoom%22%3A%2018%2C%0A%20%20%20%20%20%20%20%20%22minZoom%22%3A%200%2C%0A%20%20%20%20%20%20%20%20%22noWrap%22%3A%20false%2C%0A%20%20%20%20%20%20%20%20%22opacity%22%3A%201%2C%0A%20%20%20%20%20%20%20%20%22subdomains%22%3A%20%22abc%22%2C%0A%20%20%20%20%20%20%20%20%22tms%22%3A%20false%0A%7D%29.addTo%28map_3fbff715f71049a9b1c4b8e74f315e4a%29%3B%0A%20%20%20%20%0A%20%20%20%20%20%20%20%20var%20marker_77e1d24e311d4dcc8092416a146b025e%20%3D%20L.marker%28%0A%20%20%20%20%20%20%20%20%20%20%20%20%5B37.4982%2C%20127.08162%5D%2C%0A%20%20%20%20%20%20%20%20%20%20%20%20%7B%0A%20%20%20%20%20%20%20%20%20%20%20%20%20%20%20%20icon%3A%20new%20L.Icon.Default%28%29%2C%0A%20%20%20%20%20%20%20%20%20%20%20%20%20%20%20%20%7D%0A%20%20%20%20%20%20%20%20%20%20%20%20%29.addTo%28map_3fbff715f71049a9b1c4b8e74f315e4a%29%3B%0A%20%20%20%20%20%20%20%20%0A%20%20%20%20%0A%20%20%20%20%20%20%20%20%20%20%20%20var%20popup_148d1adc53654491854cef65a880326a%20%3D%20L.popup%28%7BmaxWidth%3A%20%27100%25%27%0A%20%20%20%20%20%20%20%20%20%20%20%20%0A%20%20%20%20%20%20%20%20%20%20%20%20%7D%29%3B%0A%0A%20%20%20%20%20%20%20%20%20%20%20%20%0A%20%20%20%20%20%20%20%20%20%20%20%20%20%20%20%20var%20html_bea87e56f06c46dcaecb86e91d0eb158%20%3D%20%24%28%60%3Cdiv%20id%3D%22html_bea87e56f06c46dcaecb86e91d0eb158%22%20style%3D%22width%3A%20100.0%25%3B%20height%3A%20100.0%25%3B%22%3E%EA%B0%95%EB%82%A8%3C/div%3E%60%29%5B0%5D%3B%0A%20%20%20%20%20%20%20%20%20%20%20%20%20%20%20%20popup_148d1adc53654491854cef65a880326a.setContent%28html_bea87e56f06c46dcaecb86e91d0eb158%29%3B%0A%20%20%20%20%20%20%20%20%20%20%20%20%0A%0A%20%20%20%20%20%20%20%20%20%20%20%20marker_77e1d24e311d4dcc8092416a146b025e.bindPopup%28popup_148d1adc53654491854cef65a880326a%29%0A%20%20%20%20%20%20%20%20%20%20%20%20%3B%0A%0A%20%20%20%20%20%20%20%20%20%20%20%20%0A%20%20%20%20%20%20%20%20%0A%20%20%20%20%0A%20%20%20%20%20%20%20%20var%20marker_91af1d4d50914e61a78fef25b3790204%20%3D%20L.marker%28%0A%20%20%20%20%20%20%20%20%20%20%20%20%5B37.55556%2C%20127.14498%5D%2C%0A%20%20%20%20%20%20%20%20%20%20%20%20%7B%0A%20%20%20%20%20%20%20%20%20%20%20%20%20%20%20%20icon%3A%20new%20L.Icon.Default%28%29%2C%0A%20%20%20%20%20%20%20%20%20%20%20%20%20%20%20%20%7D%0A%20%20%20%20%20%20%20%20%20%20%20%20%29.addTo%28map_3fbff715f71049a9b1c4b8e74f315e4a%29%3B%0A%20%20%20%20%20%20%20%20%0A%20%20%20%20%0A%20%20%20%20%20%20%20%20%20%20%20%20var%20popup_27db3698e5cc4014bbf4821ab174fe23%20%3D%20L.popup%28%7BmaxWidth%3A%20%27100%25%27%0A%20%20%20%20%20%20%20%20%20%20%20%20%0A%20%20%20%20%20%20%20%20%20%20%20%20%7D%29%3B%0A%0A%20%20%20%20%20%20%20%20%20%20%20%20%0A%20%20%20%20%20%20%20%20%20%20%20%20%20%20%20%20var%20html_54374afd6ec044c9b164210f81cba854%20%3D%20%24%28%60%3Cdiv%20id%3D%22html_54374afd6ec044c9b164210f81cba854%22%20style%3D%22width%3A%20100.0%25%3B%20height%3A%20100.0%25%3B%22%3E%EA%B0%95%EB%8F%99%3C/div%3E%60%29%5B0%5D%3B%0A%20%20%20%20%20%20%20%20%20%20%20%20%20%20%20%20popup_27db3698e5cc4014bbf4821ab174fe23.setContent%28html_54374afd6ec044c9b164210f81cba854%29%3B%0A%20%20%20%20%20%20%20%20%20%20%20%20%0A%0A%20%20%20%20%20%20%20%20%20%20%20%20marker_91af1d4d50914e61a78fef25b3790204.bindPopup%28popup_27db3698e5cc4014bbf4821ab174fe23%29%0A%20%20%20%20%20%20%20%20%20%20%20%20%3B%0A%0A%20%20%20%20%20%20%20%20%20%20%20%20%0A%20%20%20%20%20%20%20%20%0A%20%20%20%20%0A%20%20%20%20%20%20%20%20var%20marker_94969cffcf0a43e6ad5d6b5a1f6f2f74%20%3D%20L.marker%28%0A%20%20%20%20%20%20%20%20%20%20%20%20%5B37.639720000000004%2C%20127.02576%5D%2C%0A%20%20%20%20%20%20%20%20%20%20%20%20%7B%0A%20%20%20%20%20%20%20%20%20%20%20%20%20%20%20%20icon%3A%20new%20L.Icon.Default%28%29%2C%0A%20%20%20%20%20%20%20%20%20%20%20%20%20%20%20%20%7D%0A%20%20%20%20%20%20%20%20%20%20%20%20%29.addTo%28map_3fbff715f71049a9b1c4b8e74f315e4a%29%3B%0A%20%20%20%20%20%20%20%20%0A%20%20%20%20%0A%20%20%20%20%20%20%20%20%20%20%20%20var%20popup_d908292445a84290ba3a6635dd3f96b0%20%3D%20L.popup%28%7BmaxWidth%3A%20%27100%25%27%0A%20%20%20%20%20%20%20%20%20%20%20%20%0A%20%20%20%20%20%20%20%20%20%20%20%20%7D%29%3B%0A%0A%20%20%20%20%20%20%20%20%20%20%20%20%0A%20%20%20%20%20%20%20%20%20%20%20%20%20%20%20%20var%20html_c388e4050a2c4c7bba2fffc677ea89b9%20%3D%20%24%28%60%3Cdiv%20id%3D%22html_c388e4050a2c4c7bba2fffc677ea89b9%22%20style%3D%22width%3A%20100.0%25%3B%20height%3A%20100.0%25%3B%22%3E%EA%B0%95%EB%B6%81%3C/div%3E%60%29%5B0%5D%3B%0A%20%20%20%20%20%20%20%20%20%20%20%20%20%20%20%20popup_d908292445a84290ba3a6635dd3f96b0.setContent%28html_c388e4050a2c4c7bba2fffc677ea89b9%29%3B%0A%20%20%20%20%20%20%20%20%20%20%20%20%0A%0A%20%20%20%20%20%20%20%20%20%20%20%20marker_94969cffcf0a43e6ad5d6b5a1f6f2f74.bindPopup%28popup_d908292445a84290ba3a6635dd3f96b0%29%0A%20%20%20%20%20%20%20%20%20%20%20%20%3B%0A%0A%20%20%20%20%20%20%20%20%20%20%20%20%0A%20%20%20%20%20%20%20%20%0A%20%20%20%20%0A%20%20%20%20%20%20%20%20var%20marker_1b1b13da793c488eac658968042633e5%20%3D%20L.marker%28%0A%20%20%20%20%20%20%20%20%20%20%20%20%5B37.5739%2C%20126.82953%5D%2C%0A%20%20%20%20%20%20%20%20%20%20%20%20%7B%0A%20%20%20%20%20%20%20%20%20%20%20%20%20%20%20%20icon%3A%20new%20L.Icon.Default%28%29%2C%0A%20%20%20%20%20%20%20%20%20%20%20%20%20%20%20%20%7D%0A%20%20%20%20%20%20%20%20%20%20%20%20%29.addTo%28map_3fbff715f71049a9b1c4b8e74f315e4a%29%3B%0A%20%20%20%20%20%20%20%20%0A%20%20%20%20%0A%20%20%20%20%20%20%20%20%20%20%20%20var%20popup_0223e9c8c68c4537ae47a9c9f2cd59dc%20%3D%20L.popup%28%7BmaxWidth%3A%20%27100%25%27%0A%20%20%20%20%20%20%20%20%20%20%20%20%0A%20%20%20%20%20%20%20%20%20%20%20%20%7D%29%3B%0A%0A%20%20%20%20%20%20%20%20%20%20%20%20%0A%20%20%20%20%20%20%20%20%20%20%20%20%20%20%20%20var%20html_53743440f86e45d28ca3de95d0c30bae%20%3D%20%24%28%60%3Cdiv%20id%3D%22html_53743440f86e45d28ca3de95d0c30bae%22%20style%3D%22width%3A%20100.0%25%3B%20height%3A%20100.0%25%3B%22%3E%EA%B0%95%EC%84%9C%3C/div%3E%60%29%5B0%5D%3B%0A%20%20%20%20%20%20%20%20%20%20%20%20%20%20%20%20popup_0223e9c8c68c4537ae47a9c9f2cd59dc.setContent%28html_53743440f86e45d28ca3de95d0c30bae%29%3B%0A%20%20%20%20%20%20%20%20%20%20%20%20%0A%0A%20%20%20%20%20%20%20%20%20%20%20%20marker_1b1b13da793c488eac658968042633e5.bindPopup%28popup_0223e9c8c68c4537ae47a9c9f2cd59dc%29%0A%20%20%20%20%20%20%20%20%20%20%20%20%3B%0A%0A%20%20%20%20%20%20%20%20%20%20%20%20%0A%20%20%20%20%20%20%20%20%0A%20%20%20%20%0A%20%20%20%20%20%20%20%20var%20marker_d8b39bfacebc419799432e5c0e00091a%20%3D%20L.marker%28%0A%20%20%20%20%20%20%20%20%20%20%20%20%5B37.45284%2C%20126.95015%5D%2C%0A%20%20%20%20%20%20%20%20%20%20%20%20%7B%0A%20%20%20%20%20%20%20%20%20%20%20%20%20%20%20%20icon%3A%20new%20L.Icon.Default%28%29%2C%0A%20%20%20%20%20%20%20%20%20%20%20%20%20%20%20%20%7D%0A%20%20%20%20%20%20%20%20%20%20%20%20%29.addTo%28map_3fbff715f71049a9b1c4b8e74f315e4a%29%3B%0A%20%20%20%20%20%20%20%20%0A%20%20%20%20%0A%20%20%20%20%20%20%20%20%20%20%20%20var%20popup_b590a06e0f7a4ed281e79de567a56975%20%3D%20L.popup%28%7BmaxWidth%3A%20%27100%25%27%0A%20%20%20%20%20%20%20%20%20%20%20%20%0A%20%20%20%20%20%20%20%20%20%20%20%20%7D%29%3B%0A%0A%20%20%20%20%20%20%20%20%20%20%20%20%0A%20%20%20%20%20%20%20%20%20%20%20%20%20%20%20%20var%20html_6082bad1ae764bed9746f8da03afc2cc%20%3D%20%24%28%60%3Cdiv%20id%3D%22html_6082bad1ae764bed9746f8da03afc2cc%22%20style%3D%22width%3A%20100.0%25%3B%20height%3A%20100.0%25%3B%22%3E%EA%B4%80%EC%95%85%3C/div%3E%60%29%5B0%5D%3B%0A%20%20%20%20%20%20%20%20%20%20%20%20%20%20%20%20popup_b590a06e0f7a4ed281e79de567a56975.setContent%28html_6082bad1ae764bed9746f8da03afc2cc%29%3B%0A%20%20%20%20%20%20%20%20%20%20%20%20%0A%0A%20%20%20%20%20%20%20%20%20%20%20%20marker_d8b39bfacebc419799432e5c0e00091a.bindPopup%28popup_b590a06e0f7a4ed281e79de567a56975%29%0A%20%20%20%20%20%20%20%20%20%20%20%20%3B%0A%0A%20%20%20%20%20%20%20%20%20%20%20%20%0A%20%20%20%20%20%20%20%20%0A%20%20%20%20%0A%20%20%20%20%20%20%20%20var%20marker_fad1902560bf46a28893c0f052b3a2a4%20%3D%20L.marker%28%0A%20%20%20%20%20%20%20%20%20%20%20%20%5B37.49328%2C%20126.82628999999999%5D%2C%0A%20%20%20%20%20%20%20%20%20%20%20%20%7B%0A%20%20%20%20%20%20%20%20%20%20%20%20%20%20%20%20icon%3A%20new%20L.Icon.Default%28%29%2C%0A%20%20%20%20%20%20%20%20%20%20%20%20%20%20%20%20%7D%0A%20%20%20%20%20%20%20%20%20%20%20%20%29.addTo%28map_3fbff715f71049a9b1c4b8e74f315e4a%29%3B%0A%20%20%20%20%20%20%20%20%0A%20%20%20%20%0A%20%20%20%20%20%20%20%20%20%20%20%20var%20popup_e98fa057cdbc444b927dfb1c839eac4d%20%3D%20L.popup%28%7BmaxWidth%3A%20%27100%25%27%0A%20%20%20%20%20%20%20%20%20%20%20%20%0A%20%20%20%20%20%20%20%20%20%20%20%20%7D%29%3B%0A%0A%20%20%20%20%20%20%20%20%20%20%20%20%0A%20%20%20%20%20%20%20%20%20%20%20%20%20%20%20%20var%20html_4b5a7dfefe3148d1859f34f3e371a93a%20%3D%20%24%28%60%3Cdiv%20id%3D%22html_4b5a7dfefe3148d1859f34f3e371a93a%22%20style%3D%22width%3A%20100.0%25%3B%20height%3A%20100.0%25%3B%22%3E%EA%B5%AC%EB%A1%9C%3C/div%3E%60%29%5B0%5D%3B%0A%20%20%20%20%20%20%20%20%20%20%20%20%20%20%20%20popup_e98fa057cdbc444b927dfb1c839eac4d.setContent%28html_4b5a7dfefe3148d1859f34f3e371a93a%29%3B%0A%20%20%20%20%20%20%20%20%20%20%20%20%0A%0A%20%20%20%20%20%20%20%20%20%20%20%20marker_fad1902560bf46a28893c0f052b3a2a4.bindPopup%28popup_e98fa057cdbc444b927dfb1c839eac4d%29%0A%20%20%20%20%20%20%20%20%20%20%20%20%3B%0A%0A%20%20%20%20%20%20%20%20%20%20%20%20%0A%20%20%20%20%20%20%20%20%0A%20%20%20%20%0A%20%20%20%20%20%20%20%20var%20marker_b43980ec2f424a80a4016833ee44c283%20%3D%20L.marker%28%0A%20%20%20%20%20%20%20%20%20%20%20%20%5B37.49328%2C%20126.8263%5D%2C%0A%20%20%20%20%20%20%20%20%20%20%20%20%7B%0A%20%20%20%20%20%20%20%20%20%20%20%20%20%20%20%20icon%3A%20new%20L.Icon.Default%28%29%2C%0A%20%20%20%20%20%20%20%20%20%20%20%20%20%20%20%20%7D%0A%20%20%20%20%20%20%20%20%20%20%20%20%29.addTo%28map_3fbff715f71049a9b1c4b8e74f315e4a%29%3B%0A%20%20%20%20%20%20%20%20%0A%20%20%20%20%0A%20%20%20%20%20%20%20%20%20%20%20%20var%20popup_d36f6425ce574452b95f3bd5058341e0%20%3D%20L.popup%28%7BmaxWidth%3A%20%27100%25%27%0A%20%20%20%20%20%20%20%20%20%20%20%20%0A%20%20%20%20%20%20%20%20%20%20%20%20%7D%29%3B%0A%0A%20%20%20%20%20%20%20%20%20%20%20%20%0A%20%20%20%20%20%20%20%20%20%20%20%20%20%20%20%20var%20html_4b209e582e7a409abbc83fa4baf605e6%20%3D%20%24%28%60%3Cdiv%20id%3D%22html_4b209e582e7a409abbc83fa4baf605e6%22%20style%3D%22width%3A%20100.0%25%3B%20height%3A%20100.0%25%3B%22%3E%EA%B8%88%EC%B2%9C%3C/div%3E%60%29%5B0%5D%3B%0A%20%20%20%20%20%20%20%20%20%20%20%20%20%20%20%20popup_d36f6425ce574452b95f3bd5058341e0.setContent%28html_4b209e582e7a409abbc83fa4baf605e6%29%3B%0A%20%20%20%20%20%20%20%20%20%20%20%20%0A%0A%20%20%20%20%20%20%20%20%20%20%20%20marker_b43980ec2f424a80a4016833ee44c283.bindPopup%28popup_d36f6425ce574452b95f3bd5058341e0%29%0A%20%20%20%20%20%20%20%20%20%20%20%20%3B%0A%0A%20%20%20%20%20%20%20%20%20%20%20%20%0A%20%20%20%20%20%20%20%20%0A%20%20%20%20%0A%20%20%20%20%20%20%20%20var%20marker_4d636204e36e4a28aef433378d003793%20%3D%20L.marker%28%0A%20%20%20%20%20%20%20%20%20%20%20%20%5B37.46347%2C%20126.98154%5D%2C%0A%20%20%20%20%20%20%20%20%20%20%20%20%7B%0A%20%20%20%20%20%20%20%20%20%20%20%20%20%20%20%20icon%3A%20new%20L.Icon.Default%28%29%2C%0A%20%20%20%20%20%20%20%20%20%20%20%20%20%20%20%20%7D%0A%20%20%20%20%20%20%20%20%20%20%20%20%29.addTo%28map_3fbff715f71049a9b1c4b8e74f315e4a%29%3B%0A%20%20%20%20%20%20%20%20%0A%20%20%20%20%0A%20%20%20%20%20%20%20%20%20%20%20%20var%20popup_8337a9b4e1714dce983362a8cf6808f6%20%3D%20L.popup%28%7BmaxWidth%3A%20%27100%25%27%0A%20%20%20%20%20%20%20%20%20%20%20%20%0A%20%20%20%20%20%20%20%20%20%20%20%20%7D%29%3B%0A%0A%20%20%20%20%20%20%20%20%20%20%20%20%0A%20%20%20%20%20%20%20%20%20%20%20%20%20%20%20%20var%20html_8ae64cdf78d549589935c0449f85737b%20%3D%20%24%28%60%3Cdiv%20id%3D%22html_8ae64cdf78d549589935c0449f85737b%22%20style%3D%22width%3A%20100.0%25%3B%20height%3A%20100.0%25%3B%22%3E%EB%82%A8%ED%98%84%3C/div%3E%60%29%5B0%5D%3B%0A%20%20%20%20%20%20%20%20%20%20%20%20%20%20%20%20popup_8337a9b4e1714dce983362a8cf6808f6.setContent%28html_8ae64cdf78d549589935c0449f85737b%29%3B%0A%20%20%20%20%20%20%20%20%20%20%20%20%0A%0A%20%20%20%20%20%20%20%20%20%20%20%20marker_4d636204e36e4a28aef433378d003793.bindPopup%28popup_8337a9b4e1714dce983362a8cf6808f6%29%0A%20%20%20%20%20%20%20%20%20%20%20%20%3B%0A%0A%20%20%20%20%20%20%20%20%20%20%20%20%0A%20%20%20%20%20%20%20%20%0A%20%20%20%20%0A%20%20%20%20%20%20%20%20var%20marker_80cb833e213346889b73ad80d2daec99%20%3D%20L.marker%28%0A%20%20%20%20%20%20%20%20%20%20%20%20%5B37.62186%2C%20127.09192%5D%2C%0A%20%20%20%20%20%20%20%20%20%20%20%20%7B%0A%20%20%20%20%20%20%20%20%20%20%20%20%20%20%20%20icon%3A%20new%20L.Icon.Default%28%29%2C%0A%20%20%20%20%20%20%20%20%20%20%20%20%20%20%20%20%7D%0A%20%20%20%20%20%20%20%20%20%20%20%20%29.addTo%28map_3fbff715f71049a9b1c4b8e74f315e4a%29%3B%0A%20%20%20%20%20%20%20%20%0A%20%20%20%20%0A%20%20%20%20%20%20%20%20%20%20%20%20var%20popup_363274bb97b14f1ca6b7afe47b592980%20%3D%20L.popup%28%7BmaxWidth%3A%20%27100%25%27%0A%20%20%20%20%20%20%20%20%20%20%20%20%0A%20%20%20%20%20%20%20%20%20%20%20%20%7D%29%3B%0A%0A%20%20%20%20%20%20%20%20%20%20%20%20%0A%20%20%20%20%20%20%20%20%20%20%20%20%20%20%20%20var%20html_1c7095efa10e4929bfce1109372a0a66%20%3D%20%24%28%60%3Cdiv%20id%3D%22html_1c7095efa10e4929bfce1109372a0a66%22%20style%3D%22width%3A%20100.0%25%3B%20height%3A%20100.0%25%3B%22%3E%EB%85%B8%EC%9B%90%3C/div%3E%60%29%5B0%5D%3B%0A%20%20%20%20%20%20%20%20%20%20%20%20%20%20%20%20popup_363274bb97b14f1ca6b7afe47b592980.setContent%28html_1c7095efa10e4929bfce1109372a0a66%29%3B%0A%20%20%20%20%20%20%20%20%20%20%20%20%0A%0A%20%20%20%20%20%20%20%20%20%20%20%20marker_80cb833e213346889b73ad80d2daec99.bindPopup%28popup_363274bb97b14f1ca6b7afe47b592980%29%0A%20%20%20%20%20%20%20%20%20%20%20%20%3B%0A%0A%20%20%20%20%20%20%20%20%20%20%20%20%0A%20%20%20%20%20%20%20%20%0A%20%20%20%20%0A%20%20%20%20%20%20%20%20var%20marker_82ee3fd0604c46ca89ad95ec8a67030b%20%3D%20L.marker%28%0A%20%20%20%20%20%20%20%20%20%20%20%20%5B37.66612%2C%20127.02946999999999%5D%2C%0A%20%20%20%20%20%20%20%20%20%20%20%20%7B%0A%20%20%20%20%20%20%20%20%20%20%20%20%20%20%20%20icon%3A%20new%20L.Icon.Default%28%29%2C%0A%20%20%20%20%20%20%20%20%20%20%20%20%20%20%20%20%7D%0A%20%20%20%20%20%20%20%20%20%20%20%20%29.addTo%28map_3fbff715f71049a9b1c4b8e74f315e4a%29%3B%0A%20%20%20%20%20%20%20%20%0A%20%20%20%20%0A%20%20%20%20%20%20%20%20%20%20%20%20var%20popup_e541d245e9a54370a491a251b3d3e100%20%3D%20L.popup%28%7BmaxWidth%3A%20%27100%25%27%0A%20%20%20%20%20%20%20%20%20%20%20%20%0A%20%20%20%20%20%20%20%20%20%20%20%20%7D%29%3B%0A%0A%20%20%20%20%20%20%20%20%20%20%20%20%0A%20%20%20%20%20%20%20%20%20%20%20%20%20%20%20%20var%20html_bfaa76acec944843932a8a7bfa67a405%20%3D%20%24%28%60%3Cdiv%20id%3D%22html_bfaa76acec944843932a8a7bfa67a405%22%20style%3D%22width%3A%20100.0%25%3B%20height%3A%20100.0%25%3B%22%3E%EB%8F%84%EB%B4%89%3C/div%3E%60%29%5B0%5D%3B%0A%20%20%20%20%20%20%20%20%20%20%20%20%20%20%20%20popup_e541d245e9a54370a491a251b3d3e100.setContent%28html_bfaa76acec944843932a8a7bfa67a405%29%3B%0A%20%20%20%20%20%20%20%20%20%20%20%20%0A%0A%20%20%20%20%20%20%20%20%20%20%20%20marker_82ee3fd0604c46ca89ad95ec8a67030b.bindPopup%28popup_e541d245e9a54370a491a251b3d3e100%29%0A%20%20%20%20%20%20%20%20%20%20%20%20%3B%0A%0A%20%20%20%20%20%20%20%20%20%20%20%20%0A%20%20%20%20%20%20%20%20%0A%20%20%20%20%0A%20%20%20%20%20%20%20%20var%20marker_7b6a0ee652e64c2699929a842ea41a70%20%3D%20L.marker%28%0A%20%20%20%20%20%20%20%20%20%20%20%20%5B37.58463%2C%20127.06036%5D%2C%0A%20%20%20%20%20%20%20%20%20%20%20%20%7B%0A%20%20%20%20%20%20%20%20%20%20%20%20%20%20%20%20icon%3A%20new%20L.Icon.Default%28%29%2C%0A%20%20%20%20%20%20%20%20%20%20%20%20%20%20%20%20%7D%0A%20%20%20%20%20%20%20%20%20%20%20%20%29.addTo%28map_3fbff715f71049a9b1c4b8e74f315e4a%29%3B%0A%20%20%20%20%20%20%20%20%0A%20%20%20%20%0A%20%20%20%20%20%20%20%20%20%20%20%20var%20popup_87f792a288334f388b720af944984126%20%3D%20L.popup%28%7BmaxWidth%3A%20%27100%25%27%0A%20%20%20%20%20%20%20%20%20%20%20%20%0A%20%20%20%20%20%20%20%20%20%20%20%20%7D%29%3B%0A%0A%20%20%20%20%20%20%20%20%20%20%20%20%0A%20%20%20%20%20%20%20%20%20%20%20%20%20%20%20%20var%20html_f5b1500ece6f4dc5bb9d0b6b89547a7e%20%3D%20%24%28%60%3Cdiv%20id%3D%22html_f5b1500ece6f4dc5bb9d0b6b89547a7e%22%20style%3D%22width%3A%20100.0%25%3B%20height%3A%20100.0%25%3B%22%3E%EB%8F%99%EB%8C%80%EB%AC%B8%3C/div%3E%60%29%5B0%5D%3B%0A%20%20%20%20%20%20%20%20%20%20%20%20%20%20%20%20popup_87f792a288334f388b720af944984126.setContent%28html_f5b1500ece6f4dc5bb9d0b6b89547a7e%29%3B%0A%20%20%20%20%20%20%20%20%20%20%20%20%0A%0A%20%20%20%20%20%20%20%20%20%20%20%20marker_7b6a0ee652e64c2699929a842ea41a70.bindPopup%28popup_87f792a288334f388b720af944984126%29%0A%20%20%20%20%20%20%20%20%20%20%20%20%3B%0A%0A%20%20%20%20%20%20%20%20%20%20%20%20%0A%20%20%20%20%20%20%20%20%0A%20%20%20%20%0A%20%20%20%20%20%20%20%20var%20marker_231a5689224f4bb7ad0e1be515ac809c%20%3D%20L.marker%28%0A%20%20%20%20%20%20%20%20%20%20%20%20%5B37.55165%2C%20126.92915%5D%2C%0A%20%20%20%20%20%20%20%20%20%20%20%20%7B%0A%20%20%20%20%20%20%20%20%20%20%20%20%20%20%20%20icon%3A%20new%20L.Icon.Default%28%29%2C%0A%20%20%20%20%20%20%20%20%20%20%20%20%20%20%20%20%7D%0A%20%20%20%20%20%20%20%20%20%20%20%20%29.addTo%28map_3fbff715f71049a9b1c4b8e74f315e4a%29%3B%0A%20%20%20%20%20%20%20%20%0A%20%20%20%20%0A%20%20%20%20%20%20%20%20%20%20%20%20var%20popup_3b59a4adec9b4617a8e1425ca0d636d7%20%3D%20L.popup%28%7BmaxWidth%3A%20%27100%25%27%0A%20%20%20%20%20%20%20%20%20%20%20%20%0A%20%20%20%20%20%20%20%20%20%20%20%20%7D%29%3B%0A%0A%20%20%20%20%20%20%20%20%20%20%20%20%0A%20%20%20%20%20%20%20%20%20%20%20%20%20%20%20%20var%20html_68cef47cd41e4a98b7495ff79a30db36%20%3D%20%24%28%60%3Cdiv%20id%3D%22html_68cef47cd41e4a98b7495ff79a30db36%22%20style%3D%22width%3A%20100.0%25%3B%20height%3A%20100.0%25%3B%22%3E%EB%A7%88%ED%8F%AC%3C/div%3E%60%29%5B0%5D%3B%0A%20%20%20%20%20%20%20%20%20%20%20%20%20%20%20%20popup_3b59a4adec9b4617a8e1425ca0d636d7.setContent%28html_68cef47cd41e4a98b7495ff79a30db36%29%3B%0A%20%20%20%20%20%20%20%20%20%20%20%20%0A%0A%20%20%20%20%20%20%20%20%20%20%20%20marker_231a5689224f4bb7ad0e1be515ac809c.bindPopup%28popup_3b59a4adec9b4617a8e1425ca0d636d7%29%0A%20%20%20%20%20%20%20%20%20%20%20%20%3B%0A%0A%20%20%20%20%20%20%20%20%20%20%20%20%0A%20%20%20%20%20%20%20%20%0A%20%20%20%20%0A%20%20%20%20%20%20%20%20var%20marker_8bdf7bcc0c2240c5a702f7abee82eda6%20%3D%20L.marker%28%0A%20%20%20%20%20%20%20%20%20%20%20%20%5B37.57047%2C%20126.94078%5D%2C%0A%20%20%20%20%20%20%20%20%20%20%20%20%7B%0A%20%20%20%20%20%20%20%20%20%20%20%20%20%20%20%20icon%3A%20new%20L.Icon.Default%28%29%2C%0A%20%20%20%20%20%20%20%20%20%20%20%20%20%20%20%20%7D%0A%20%20%20%20%20%20%20%20%20%20%20%20%29.addTo%28map_3fbff715f71049a9b1c4b8e74f315e4a%29%3B%0A%20%20%20%20%20%20%20%20%0A%20%20%20%20%0A%20%20%20%20%20%20%20%20%20%20%20%20var%20popup_7883c94f9fd74ae482c515827905acd2%20%3D%20L.popup%28%7BmaxWidth%3A%20%27100%25%27%0A%20%20%20%20%20%20%20%20%20%20%20%20%0A%20%20%20%20%20%20%20%20%20%20%20%20%7D%29%3B%0A%0A%20%20%20%20%20%20%20%20%20%20%20%20%0A%20%20%20%20%20%20%20%20%20%20%20%20%20%20%20%20var%20html_b63a8baf24ee443cb1a69ad16551f39e%20%3D%20%24%28%60%3Cdiv%20id%3D%22html_b63a8baf24ee443cb1a69ad16551f39e%22%20style%3D%22width%3A%20100.0%25%3B%20height%3A%20100.0%25%3B%22%3E%EC%84%9C%EB%8C%80%EB%AC%B8%3C/div%3E%60%29%5B0%5D%3B%0A%20%20%20%20%20%20%20%20%20%20%20%20%20%20%20%20popup_7883c94f9fd74ae482c515827905acd2.setContent%28html_b63a8baf24ee443cb1a69ad16551f39e%29%3B%0A%20%20%20%20%20%20%20%20%20%20%20%20%0A%0A%20%20%20%20%20%20%20%20%20%20%20%20marker_8bdf7bcc0c2240c5a702f7abee82eda6.bindPopup%28popup_7883c94f9fd74ae482c515827905acd2%29%0A%20%20%20%20%20%20%20%20%20%20%20%20%3B%0A%0A%20%20%20%20%20%20%20%20%20%20%20%20%0A%20%20%20%20%20%20%20%20%0A%20%20%20%20%0A%20%20%20%20%20%20%20%20var%20marker_1d2f1bd421454b59bee52b0e5ce2ddc4%20%3D%20L.marker%28%0A%20%20%20%20%20%20%20%20%20%20%20%20%5B37.48462%2C%20127.02601000000001%5D%2C%0A%20%20%20%20%20%20%20%20%20%20%20%20%7B%0A%20%20%20%20%20%20%20%20%20%20%20%20%20%20%20%20icon%3A%20new%20L.Icon.Default%28%29%2C%0A%20%20%20%20%20%20%20%20%20%20%20%20%20%20%20%20%7D%0A%20%20%20%20%20%20%20%20%20%20%20%20%29.addTo%28map_3fbff715f71049a9b1c4b8e74f315e4a%29%3B%0A%20%20%20%20%20%20%20%20%0A%20%20%20%20%0A%20%20%20%20%20%20%20%20%20%20%20%20var%20popup_7a4b54c6052c4b42bc64a2ac1e6acdf3%20%3D%20L.popup%28%7BmaxWidth%3A%20%27100%25%27%0A%20%20%20%20%20%20%20%20%20%20%20%20%0A%20%20%20%20%20%20%20%20%20%20%20%20%7D%29%3B%0A%0A%20%20%20%20%20%20%20%20%20%20%20%20%0A%20%20%20%20%20%20%20%20%20%20%20%20%20%20%20%20var%20html_73d8a3895b5b49d59508b3957577cb47%20%3D%20%24%28%60%3Cdiv%20id%3D%22html_73d8a3895b5b49d59508b3957577cb47%22%20style%3D%22width%3A%20100.0%25%3B%20height%3A%20100.0%25%3B%22%3E%EC%84%9C%EC%B4%88%3C/div%3E%60%29%5B0%5D%3B%0A%20%20%20%20%20%20%20%20%20%20%20%20%20%20%20%20popup_7a4b54c6052c4b42bc64a2ac1e6acdf3.setContent%28html_73d8a3895b5b49d59508b3957577cb47%29%3B%0A%20%20%20%20%20%20%20%20%20%20%20%20%0A%0A%20%20%20%20%20%20%20%20%20%20%20%20marker_1d2f1bd421454b59bee52b0e5ce2ddc4.bindPopup%28popup_7a4b54c6052c4b42bc64a2ac1e6acdf3%29%0A%20%20%20%20%20%20%20%20%20%20%20%20%3B%0A%0A%20%20%20%20%20%20%20%20%20%20%20%20%0A%20%20%20%20%20%20%20%20%0A%20%20%20%20%0A%20%20%20%20%20%20%20%20var%20marker_e2ac78f005f94ac7b0b7b41c971239c2%20%3D%20L.marker%28%0A%20%20%20%20%20%20%20%20%20%20%20%20%5B37.54721%2C%20127.03885%5D%2C%0A%20%20%20%20%20%20%20%20%20%20%20%20%7B%0A%20%20%20%20%20%20%20%20%20%20%20%20%20%20%20%20icon%3A%20new%20L.Icon.Default%28%29%2C%0A%20%20%20%20%20%20%20%20%20%20%20%20%20%20%20%20%7D%0A%20%20%20%20%20%20%20%20%20%20%20%20%29.addTo%28map_3fbff715f71049a9b1c4b8e74f315e4a%29%3B%0A%20%20%20%20%20%20%20%20%0A%20%20%20%20%0A%20%20%20%20%20%20%20%20%20%20%20%20var%20popup_4096ecc22e2a46d3acd465724aa75cfd%20%3D%20L.popup%28%7BmaxWidth%3A%20%27100%25%27%0A%20%20%20%20%20%20%20%20%20%20%20%20%0A%20%20%20%20%20%20%20%20%20%20%20%20%7D%29%3B%0A%0A%20%20%20%20%20%20%20%20%20%20%20%20%0A%20%20%20%20%20%20%20%20%20%20%20%20%20%20%20%20var%20html_06bff34e2d6e4cceacfdcc502238b6f4%20%3D%20%24%28%60%3Cdiv%20id%3D%22html_06bff34e2d6e4cceacfdcc502238b6f4%22%20style%3D%22width%3A%20100.0%25%3B%20height%3A%20100.0%25%3B%22%3E%EC%84%B1%EB%8F%99%3C/div%3E%60%29%5B0%5D%3B%0A%20%20%20%20%20%20%20%20%20%20%20%20%20%20%20%20popup_4096ecc22e2a46d3acd465724aa75cfd.setContent%28html_06bff34e2d6e4cceacfdcc502238b6f4%29%3B%0A%20%20%20%20%20%20%20%20%20%20%20%20%0A%0A%20%20%20%20%20%20%20%20%20%20%20%20marker_e2ac78f005f94ac7b0b7b41c971239c2.bindPopup%28popup_4096ecc22e2a46d3acd465724aa75cfd%29%0A%20%20%20%20%20%20%20%20%20%20%20%20%3B%0A%0A%20%20%20%20%20%20%20%20%20%20%20%20%0A%20%20%20%20%20%20%20%20%0A%20%20%20%20%0A%20%20%20%20%20%20%20%20var%20marker_7a9cae7278a74eb7af149d1ad3b8b484%20%3D%20L.marker%28%0A%20%20%20%20%20%20%20%20%20%20%20%20%5B37.61172%2C%20126.99943999999999%5D%2C%0A%20%20%20%20%20%20%20%20%20%20%20%20%7B%0A%20%20%20%20%20%20%20%20%20%20%20%20%20%20%20%20icon%3A%20new%20L.Icon.Default%28%29%2C%0A%20%20%20%20%20%20%20%20%20%20%20%20%20%20%20%20%7D%0A%20%20%20%20%20%20%20%20%20%20%20%20%29.addTo%28map_3fbff715f71049a9b1c4b8e74f315e4a%29%3B%0A%20%20%20%20%20%20%20%20%0A%20%20%20%20%0A%20%20%20%20%20%20%20%20%20%20%20%20var%20popup_772a2ac6734344288a89bb4cb3ffade1%20%3D%20L.popup%28%7BmaxWidth%3A%20%27100%25%27%0A%20%20%20%20%20%20%20%20%20%20%20%20%0A%20%20%20%20%20%20%20%20%20%20%20%20%7D%29%3B%0A%0A%20%20%20%20%20%20%20%20%20%20%20%20%0A%20%20%20%20%20%20%20%20%20%20%20%20%20%20%20%20var%20html_fd04e16132b14334a3bc8f523ff97e97%20%3D%20%24%28%60%3Cdiv%20id%3D%22html_fd04e16132b14334a3bc8f523ff97e97%22%20style%3D%22width%3A%20100.0%25%3B%20height%3A%20100.0%25%3B%22%3E%EC%84%B1%EB%B6%81%3C/div%3E%60%29%5B0%5D%3B%0A%20%20%20%20%20%20%20%20%20%20%20%20%20%20%20%20popup_772a2ac6734344288a89bb4cb3ffade1.setContent%28html_fd04e16132b14334a3bc8f523ff97e97%29%3B%0A%20%20%20%20%20%20%20%20%20%20%20%20%0A%0A%20%20%20%20%20%20%20%20%20%20%20%20marker_7a9cae7278a74eb7af149d1ad3b8b484.bindPopup%28popup_772a2ac6734344288a89bb4cb3ffade1%29%0A%20%20%20%20%20%20%20%20%20%20%20%20%3B%0A%0A%20%20%20%20%20%20%20%20%20%20%20%20%0A%20%20%20%20%20%20%20%20%0A%20%20%20%20%0A%20%20%20%20%20%20%20%20var%20marker_5cdfbf3c5fcc4a339e419bd025d41808%20%3D%20L.marker%28%0A%20%20%20%20%20%20%20%20%20%20%20%20%5B37.511509999999994%2C%20127.0967%5D%2C%0A%20%20%20%20%20%20%20%20%20%20%20%20%7B%0A%20%20%20%20%20%20%20%20%20%20%20%20%20%20%20%20icon%3A%20new%20L.Icon.Default%28%29%2C%0A%20%20%20%20%20%20%20%20%20%20%20%20%20%20%20%20%7D%0A%20%20%20%20%20%20%20%20%20%20%20%20%29.addTo%28map_3fbff715f71049a9b1c4b8e74f315e4a%29%3B%0A%20%20%20%20%20%20%20%20%0A%20%20%20%20%0A%20%20%20%20%20%20%20%20%20%20%20%20var%20popup_d37c62ea95c14e0ca8bb8cfd78ab2273%20%3D%20L.popup%28%7BmaxWidth%3A%20%27100%25%27%0A%20%20%20%20%20%20%20%20%20%20%20%20%0A%20%20%20%20%20%20%20%20%20%20%20%20%7D%29%3B%0A%0A%20%20%20%20%20%20%20%20%20%20%20%20%0A%20%20%20%20%20%20%20%20%20%20%20%20%20%20%20%20var%20html_558d110f0df04439ad257b00c9df39db%20%3D%20%24%28%60%3Cdiv%20id%3D%22html_558d110f0df04439ad257b00c9df39db%22%20style%3D%22width%3A%20100.0%25%3B%20height%3A%20100.0%25%3B%22%3E%EC%86%A1%ED%8C%8C%3C/div%3E%60%29%5B0%5D%3B%0A%20%20%20%20%20%20%20%20%20%20%20%20%20%20%20%20popup_d37c62ea95c14e0ca8bb8cfd78ab2273.setContent%28html_558d110f0df04439ad257b00c9df39db%29%3B%0A%20%20%20%20%20%20%20%20%20%20%20%20%0A%0A%20%20%20%20%20%20%20%20%20%20%20%20marker_5cdfbf3c5fcc4a339e419bd025d41808.bindPopup%28popup_d37c62ea95c14e0ca8bb8cfd78ab2273%29%0A%20%20%20%20%20%20%20%20%20%20%20%20%3B%0A%0A%20%20%20%20%20%20%20%20%20%20%20%20%0A%20%20%20%20%20%20%20%20%0A%20%20%20%20%0A%20%20%20%20%20%20%20%20var%20marker_4de29a5d7187482ca0874a39168cd748%20%3D%20L.marker%28%0A%20%20%20%20%20%20%20%20%20%20%20%20%5B37.52961%2C%20126.8782%5D%2C%0A%20%20%20%20%20%20%20%20%20%20%20%20%7B%0A%20%20%20%20%20%20%20%20%20%20%20%20%20%20%20%20icon%3A%20new%20L.Icon.Default%28%29%2C%0A%20%20%20%20%20%20%20%20%20%20%20%20%20%20%20%20%7D%0A%20%20%20%20%20%20%20%20%20%20%20%20%29.addTo%28map_3fbff715f71049a9b1c4b8e74f315e4a%29%3B%0A%20%20%20%20%20%20%20%20%0A%20%20%20%20%0A%20%20%20%20%20%20%20%20%20%20%20%20var%20popup_d6d659d8bb79450f84a1445d87853fde%20%3D%20L.popup%28%7BmaxWidth%3A%20%27100%25%27%0A%20%20%20%20%20%20%20%20%20%20%20%20%0A%20%20%20%20%20%20%20%20%20%20%20%20%7D%29%3B%0A%0A%20%20%20%20%20%20%20%20%20%20%20%20%0A%20%20%20%20%20%20%20%20%20%20%20%20%20%20%20%20var%20html_584575c67aa947bfb0351efb01a7da23%20%3D%20%24%28%60%3Cdiv%20id%3D%22html_584575c67aa947bfb0351efb01a7da23%22%20style%3D%22width%3A%20100.0%25%3B%20height%3A%20100.0%25%3B%22%3E%EC%96%91%EC%B2%9C%3C/div%3E%60%29%5B0%5D%3B%0A%20%20%20%20%20%20%20%20%20%20%20%20%20%20%20%20popup_d6d659d8bb79450f84a1445d87853fde.setContent%28html_584575c67aa947bfb0351efb01a7da23%29%3B%0A%20%20%20%20%20%20%20%20%20%20%20%20%0A%0A%20%20%20%20%20%20%20%20%20%20%20%20marker_4de29a5d7187482ca0874a39168cd748.bindPopup%28popup_d6d659d8bb79450f84a1445d87853fde%29%0A%20%20%20%20%20%20%20%20%20%20%20%20%3B%0A%0A%20%20%20%20%20%20%20%20%20%20%20%20%0A%20%20%20%20%20%20%20%20%0A%20%20%20%20%0A%20%20%20%20%20%20%20%20var%20marker_67188635526c45b3ba28d139344898e2%20%3D%20L.marker%28%0A%20%20%20%20%20%20%20%20%20%20%20%20%5B37.52706%2C%20126.90705%5D%2C%0A%20%20%20%20%20%20%20%20%20%20%20%20%7B%0A%20%20%20%20%20%20%20%20%20%20%20%20%20%20%20%20icon%3A%20new%20L.Icon.Default%28%29%2C%0A%20%20%20%20%20%20%20%20%20%20%20%20%20%20%20%20%7D%0A%20%20%20%20%20%20%20%20%20%20%20%20%29.addTo%28map_3fbff715f71049a9b1c4b8e74f315e4a%29%3B%0A%20%20%20%20%20%20%20%20%0A%20%20%20%20%0A%20%20%20%20%20%20%20%20%20%20%20%20var%20popup_2f4a78b5eb1f425797aaab56ebd14a71%20%3D%20L.popup%28%7BmaxWidth%3A%20%27100%25%27%0A%20%20%20%20%20%20%20%20%20%20%20%20%0A%20%20%20%20%20%20%20%20%20%20%20%20%7D%29%3B%0A%0A%20%20%20%20%20%20%20%20%20%20%20%20%0A%20%20%20%20%20%20%20%20%20%20%20%20%20%20%20%20var%20html_c5ea98959da54305a581a9bc74b46eed%20%3D%20%24%28%60%3Cdiv%20id%3D%22html_c5ea98959da54305a581a9bc74b46eed%22%20style%3D%22width%3A%20100.0%25%3B%20height%3A%20100.0%25%3B%22%3E%EC%98%81%EB%93%B1%ED%8F%AC%20%3C/div%3E%60%29%5B0%5D%3B%0A%20%20%20%20%20%20%20%20%20%20%20%20%20%20%20%20popup_2f4a78b5eb1f425797aaab56ebd14a71.setContent%28html_c5ea98959da54305a581a9bc74b46eed%29%3B%0A%20%20%20%20%20%20%20%20%20%20%20%20%0A%0A%20%20%20%20%20%20%20%20%20%20%20%20marker_67188635526c45b3ba28d139344898e2.bindPopup%28popup_2f4a78b5eb1f425797aaab56ebd14a71%29%0A%20%20%20%20%20%20%20%20%20%20%20%20%3B%0A%0A%20%20%20%20%20%20%20%20%20%20%20%20%0A%20%20%20%20%20%20%20%20%0A%20%20%20%20%0A%20%20%20%20%20%20%20%20var%20marker_de251a7e192c450889a5615191e902dd%20%3D%20L.marker%28%0A%20%20%20%20%20%20%20%20%20%20%20%20%5B37.51955%2C%20126.97628999999999%5D%2C%0A%20%20%20%20%20%20%20%20%20%20%20%20%7B%0A%20%20%20%20%20%20%20%20%20%20%20%20%20%20%20%20icon%3A%20new%20L.Icon.Default%28%29%2C%0A%20%20%20%20%20%20%20%20%20%20%20%20%20%20%20%20%7D%0A%20%20%20%20%20%20%20%20%20%20%20%20%29.addTo%28map_3fbff715f71049a9b1c4b8e74f315e4a%29%3B%0A%20%20%20%20%20%20%20%20%0A%20%20%20%20%0A%20%20%20%20%20%20%20%20%20%20%20%20var%20popup_e702ffb97277409a9783dd25e1baf3c2%20%3D%20L.popup%28%7BmaxWidth%3A%20%27100%25%27%0A%20%20%20%20%20%20%20%20%20%20%20%20%0A%20%20%20%20%20%20%20%20%20%20%20%20%7D%29%3B%0A%0A%20%20%20%20%20%20%20%20%20%20%20%20%0A%20%20%20%20%20%20%20%20%20%20%20%20%20%20%20%20var%20html_ff0b7bc48202460ab1a6deb204a42967%20%3D%20%24%28%60%3Cdiv%20id%3D%22html_ff0b7bc48202460ab1a6deb204a42967%22%20style%3D%22width%3A%20100.0%25%3B%20height%3A%20100.0%25%3B%22%3E%EC%9A%A9%EC%82%B0%3C/div%3E%60%29%5B0%5D%3B%0A%20%20%20%20%20%20%20%20%20%20%20%20%20%20%20%20popup_e702ffb97277409a9783dd25e1baf3c2.setContent%28html_ff0b7bc48202460ab1a6deb204a42967%29%3B%0A%20%20%20%20%20%20%20%20%20%20%20%20%0A%0A%20%20%20%20%20%20%20%20%20%20%20%20marker_de251a7e192c450889a5615191e902dd.bindPopup%28popup_e702ffb97277409a9783dd25e1baf3c2%29%0A%20%20%20%20%20%20%20%20%20%20%20%20%3B%0A%0A%20%20%20%20%20%20%20%20%20%20%20%20%0A%20%20%20%20%20%20%20%20%0A%20%20%20%20%0A%20%20%20%20%20%20%20%20var%20marker_ce14587625c14a3ab1414d0bb7cb91be%20%3D%20L.marker%28%0A%20%20%20%20%20%20%20%20%20%20%20%20%5B37.64648%2C%20126.9426%5D%2C%0A%20%20%20%20%20%20%20%20%20%20%20%20%7B%0A%20%20%20%20%20%20%20%20%20%20%20%20%20%20%20%20icon%3A%20new%20L.Icon.Default%28%29%2C%0A%20%20%20%20%20%20%20%20%20%20%20%20%20%20%20%20%7D%0A%20%20%20%20%20%20%20%20%20%20%20%20%29.addTo%28map_3fbff715f71049a9b1c4b8e74f315e4a%29%3B%0A%20%20%20%20%20%20%20%20%0A%20%20%20%20%0A%20%20%20%20%20%20%20%20%20%20%20%20var%20popup_d90667dc06c5472597e77953b2f4d0a2%20%3D%20L.popup%28%7BmaxWidth%3A%20%27100%25%27%0A%20%20%20%20%20%20%20%20%20%20%20%20%0A%20%20%20%20%20%20%20%20%20%20%20%20%7D%29%3B%0A%0A%20%20%20%20%20%20%20%20%20%20%20%20%0A%20%20%20%20%20%20%20%20%20%20%20%20%20%20%20%20var%20html_7ed40a0db89a4ba3a82373174e7ea294%20%3D%20%24%28%60%3Cdiv%20id%3D%22html_7ed40a0db89a4ba3a82373174e7ea294%22%20style%3D%22width%3A%20100.0%25%3B%20height%3A%20100.0%25%3B%22%3E%EC%9D%80%ED%8F%89%3C/div%3E%60%29%5B0%5D%3B%0A%20%20%20%20%20%20%20%20%20%20%20%20%20%20%20%20popup_d90667dc06c5472597e77953b2f4d0a2.setContent%28html_7ed40a0db89a4ba3a82373174e7ea294%29%3B%0A%20%20%20%20%20%20%20%20%20%20%20%20%0A%0A%20%20%20%20%20%20%20%20%20%20%20%20marker_ce14587625c14a3ab1414d0bb7cb91be.bindPopup%28popup_d90667dc06c5472597e77953b2f4d0a2%29%0A%20%20%20%20%20%20%20%20%20%20%20%20%3B%0A%0A%20%20%20%20%20%20%20%20%20%20%20%20%0A%20%20%20%20%20%20%20%20%0A%20%20%20%20%0A%20%20%20%20%20%20%20%20var%20marker_807a76c0724742b39b2e0b69f62d0545%20%3D%20L.marker%28%0A%20%20%20%20%20%20%20%20%20%20%20%20%5B37.58551%2C%20127.08681999999999%5D%2C%0A%20%20%20%20%20%20%20%20%20%20%20%20%7B%0A%20%20%20%20%20%20%20%20%20%20%20%20%20%20%20%20icon%3A%20new%20L.Icon.Default%28%29%2C%0A%20%20%20%20%20%20%20%20%20%20%20%20%20%20%20%20%7D%0A%20%20%20%20%20%20%20%20%20%20%20%20%29.addTo%28map_3fbff715f71049a9b1c4b8e74f315e4a%29%3B%0A%20%20%20%20%20%20%20%20%0A%20%20%20%20%0A%20%20%20%20%20%20%20%20%20%20%20%20var%20popup_95a6a37344b54ccbac8466efe204662d%20%3D%20L.popup%28%7BmaxWidth%3A%20%27100%25%27%0A%20%20%20%20%20%20%20%20%20%20%20%20%0A%20%20%20%20%20%20%20%20%20%20%20%20%7D%29%3B%0A%0A%20%20%20%20%20%20%20%20%20%20%20%20%0A%20%20%20%20%20%20%20%20%20%20%20%20%20%20%20%20var%20html_3e1cf1f2b4dd4200b0a1952b7b80138a%20%3D%20%24%28%60%3Cdiv%20id%3D%22html_3e1cf1f2b4dd4200b0a1952b7b80138a%22%20style%3D%22width%3A%20100.0%25%3B%20height%3A%20100.0%25%3B%22%3E%EC%A4%91%EB%9E%91%3C/div%3E%60%29%5B0%5D%3B%0A%20%20%20%20%20%20%20%20%20%20%20%20%20%20%20%20popup_95a6a37344b54ccbac8466efe204662d.setContent%28html_3e1cf1f2b4dd4200b0a1952b7b80138a%29%3B%0A%20%20%20%20%20%20%20%20%20%20%20%20%0A%0A%20%20%20%20%20%20%20%20%20%20%20%20marker_807a76c0724742b39b2e0b69f62d0545.bindPopup%28popup_95a6a37344b54ccbac8466efe204662d%29%0A%20%20%20%20%20%20%20%20%20%20%20%20%3B%0A%0A%20%20%20%20%20%20%20%20%20%20%20%20%0A%20%20%20%20%20%20%20%20%0A%20%20%20%20%0A%20%20%20%20%20%20%20%20var%20marker_7013ff79bc424d559b949b43a05593db%20%3D%20L.marker%28%0A%20%20%20%20%20%20%20%20%20%20%20%20%5B37.52489%2C%20126.93903999999999%5D%2C%0A%20%20%20%20%20%20%20%20%20%20%20%20%7B%0A%20%20%20%20%20%20%20%20%20%20%20%20%20%20%20%20icon%3A%20new%20L.Icon.Default%28%29%2C%0A%20%20%20%20%20%20%20%20%20%20%20%20%20%20%20%20%7D%0A%20%20%20%20%20%20%20%20%20%20%20%20%29.addTo%28map_3fbff715f71049a9b1c4b8e74f315e4a%29%3B%0A%20%20%20%20%20%20%20%20%0A%20%20%20%20%0A%20%20%20%20%20%20%20%20%20%20%20%20var%20popup_763fc4fc8a5140fba3a5e43dfebc4ea7%20%3D%20L.popup%28%7BmaxWidth%3A%20%27100%25%27%0A%20%20%20%20%20%20%20%20%20%20%20%20%0A%20%20%20%20%20%20%20%20%20%20%20%20%7D%29%3B%0A%0A%20%20%20%20%20%20%20%20%20%20%20%20%0A%20%20%20%20%20%20%20%20%20%20%20%20%20%20%20%20var%20html_99c51a56a0d24204a918f1d0c903cc1d%20%3D%20%24%28%60%3Cdiv%20id%3D%22html_99c51a56a0d24204a918f1d0c903cc1d%22%20style%3D%22width%3A%20100.0%25%3B%20height%3A%20100.0%25%3B%22%3E%ED%95%9C%EA%B0%95%3C/div%3E%60%29%5B0%5D%3B%0A%20%20%20%20%20%20%20%20%20%20%20%20%20%20%20%20popup_763fc4fc8a5140fba3a5e43dfebc4ea7.setContent%28html_99c51a56a0d24204a918f1d0c903cc1d%29%3B%0A%20%20%20%20%20%20%20%20%20%20%20%20%0A%0A%20%20%20%20%20%20%20%20%20%20%20%20marker_7013ff79bc424d559b949b43a05593db.bindPopup%28popup_763fc4fc8a5140fba3a5e43dfebc4ea7%29%0A%20%20%20%20%20%20%20%20%20%20%20%20%3B%0A%0A%20%20%20%20%20%20%20%20%20%20%20%20%0A%20%20%20%20%20%20%20%20%0A%20%20%20%20%0A%20%20%20%20%20%20%20%20var%20marker_ca08121a37cf455caf49d2760306635c%20%3D%20L.marker%28%0A%20%20%20%20%20%20%20%20%20%20%20%20%5B37.50036%2C%20126.97652%5D%2C%0A%20%20%20%20%20%20%20%20%20%20%20%20%7B%0A%20%20%20%20%20%20%20%20%20%20%20%20%20%20%20%20icon%3A%20new%20L.Icon.Default%28%29%2C%0A%20%20%20%20%20%20%20%20%20%20%20%20%20%20%20%20%7D%0A%20%20%20%20%20%20%20%20%20%20%20%20%29.addTo%28map_3fbff715f71049a9b1c4b8e74f315e4a%29%3B%0A%20%20%20%20%20%20%20%20%0A%20%20%20%20%0A%20%20%20%20%20%20%20%20%20%20%20%20var%20popup_896cd6fffdab444dbd8a32556586ef6a%20%3D%20L.popup%28%7BmaxWidth%3A%20%27100%25%27%0A%20%20%20%20%20%20%20%20%20%20%20%20%0A%20%20%20%20%20%20%20%20%20%20%20%20%7D%29%3B%0A%0A%20%20%20%20%20%20%20%20%20%20%20%20%0A%20%20%20%20%20%20%20%20%20%20%20%20%20%20%20%20var%20html_0d9dfd7524b348dfa75b2cf66ad7d9cf%20%3D%20%24%28%60%3Cdiv%20id%3D%22html_0d9dfd7524b348dfa75b2cf66ad7d9cf%22%20style%3D%22width%3A%20100.0%25%3B%20height%3A%20100.0%25%3B%22%3E%ED%98%84%EC%B6%A9%EC%9B%90%3C/div%3E%60%29%5B0%5D%3B%0A%20%20%20%20%20%20%20%20%20%20%20%20%20%20%20%20popup_896cd6fffdab444dbd8a32556586ef6a.setContent%28html_0d9dfd7524b348dfa75b2cf66ad7d9cf%29%3B%0A%20%20%20%20%20%20%20%20%20%20%20%20%0A%0A%20%20%20%20%20%20%20%20%20%20%20%20marker_ca08121a37cf455caf49d2760306635c.bindPopup%28popup_896cd6fffdab444dbd8a32556586ef6a%29%0A%20%20%20%20%20%20%20%20%20%20%20%20%3B%0A%0A%20%20%20%20%20%20%20%20%20%20%20%20%0A%20%20%20%20%20%20%20%20%0A%3C/script%3E onload=\"this.contentDocument.open();this.contentDocument.write(    decodeURIComponent(this.getAttribute('data-html')));this.contentDocument.close();\" allowfullscreen webkitallowfullscreen mozallowfullscreen></iframe></div></div>"
            ],
            "text/plain": [
              "<folium.folium.Map at 0x7fbcd9ece090>"
            ]
          },
          "metadata": {},
          "execution_count": 386
        }
      ]
    },
    {
      "cell_type": "code",
      "metadata": {
        "id": "lntsB7xekEFx"
      },
      "source": [
        "# aws, pm25 좌표 딕셔너리 생성\n",
        "def geo_var(df, dict):\n",
        "  for i in df['loc_name']:\n",
        "    x = df.loc[df.loc_name == i, \"geometry\"].squeeze()\n",
        "    dict[i] = x\n",
        "  return dict\n",
        "\n",
        "aws_dict ={}\n",
        "pm25_dict={}\n",
        "\n",
        "aws_dict = geo_var(aws_loc_gdf, aws_dict)\n",
        "pm25_dict = geo_var(pm25_loc_gdf, pm25_dict)"
      ],
      "execution_count": 387,
      "outputs": []
    },
    {
      "cell_type": "code",
      "metadata": {
        "id": "Eu7hLDltnV2i"
      },
      "source": [
        "# pm25의 각 좌표와 가장 가까운 aws 좌표를 매칭\n",
        "def nearest_distance(dict1, dict2):\n",
        "  distance={}\n",
        "  for t in list(dict1.items()):\n",
        "    k1 = t[0]\n",
        "    v1 = t[1]\n",
        "    shortest = v1.distance(list(dict2.values())[0])\n",
        "    for m in list(dict2.items()):\n",
        "      k2 = m[0]\n",
        "      v2 = m[1]\n",
        "      if v1.distance(v2) < shortest:\n",
        "        shortest = v1.distance(v2)\n",
        "        index=k2\n",
        "    distance[k1] = index\n",
        "  return distance\n",
        "\n",
        "pm25_nearest = nearest_distance(pm25_dict, aws_dict)"
      ],
      "execution_count": 388,
      "outputs": []
    },
    {
      "cell_type": "code",
      "metadata": {
        "id": "kdQ82yqkqKH3"
      },
      "source": [
        "# 매칭한 장소 이름과 좌표를 데이터 프레임으로 변환\n",
        "pm25_nearest = pd.DataFrame(list(pm25_nearest.items()), columns=['loc_name','aws_loc_name'])"
      ],
      "execution_count": 389,
      "outputs": []
    },
    {
      "cell_type": "code",
      "metadata": {
        "id": "3Q5E9b3Pu5k9"
      },
      "source": [
        "# pm25_loc_df, aws_loc_df에 매칭한 장소를 merge\n",
        "\n",
        "pm25_loc_df = pd.merge(pm25_loc_df, pm25_nearest, how = 'inner', on=['loc_name'])\n",
        "\n",
        "aws_loc_df = aws_loc_df.rename(columns={'loc_name': 'aws_loc_name'})"
      ],
      "execution_count": 390,
      "outputs": []
    },
    {
      "cell_type": "code",
      "metadata": {
        "id": "_DOY_EN_wjPQ"
      },
      "source": [
        "# Merge (pm25_loc_df, aws_loc_df)\n",
        "loc_df = pd.merge(pm25_loc_df, aws_loc_df, how='inner', on = ['aws_loc_name'])\n",
        "\n",
        "# get id for every pm25 loc_code\n",
        "from sklearn.preprocessing import LabelEncoder\n",
        "lbl = LabelEncoder()\n",
        "loc_df['loc_id'] = lbl.fit_transform(loc_df['loc_code_x'])"
      ],
      "execution_count": 392,
      "outputs": []
    },
    {
      "cell_type": "code",
      "metadata": {
        "id": "ORjrTm7ow3j8"
      },
      "source": [
        "# make dataframe with loc_id\n",
        "pm25_loc_id = loc_df[['loc_code_x','loc_id']]\n",
        "aws_loc_id = loc_df[['loc_code_y', 'loc_id']]\n",
        "\n",
        "pm25_loc_id = pm25_loc_id.rename(columns={'loc_code_x':'loc_code'})\n",
        "aws_loc_id = aws_loc_id.rename(columns={'loc_code_y':'loc_code'})"
      ],
      "execution_count": 393,
      "outputs": []
    },
    {
      "cell_type": "code",
      "metadata": {
        "colab": {
          "base_uri": "https://localhost:8080/",
          "height": 171
        },
        "id": "gXxbWWfeYvf1",
        "outputId": "f9edac7e-1956-4d4c-eb14-8a0a21a82ae8"
      },
      "source": [
        "# first attempt, 별로임\n",
        "'''\n",
        "from sklearn.preprocessing import LabelEncoder\n",
        "lbl = LabelEncoder()\n",
        "aws_loc_df['loc_id'] = lbl.fit_transform(aws_loc_df['loc_name'])\n",
        "aws_loc_df.head()\n",
        "\n",
        "loc_id_map = aws_loc_df['loc_name'].to_dict()\n",
        "pm25_loc_df['loc_name'] = pm25_loc_df['loc_name'].map(lambda x: x[:-1])\n",
        "\n",
        "loc_id_map[22] = '광진'\n",
        "loc_id_map[23] = '동작'\n",
        "\n",
        "loc_id_map = {v: k for k, v in loc_id_map.items()}\n",
        "loc_id_map['종로'] = 10\n",
        "loc_id_map['중'] = 12\n",
        "loc_id_map['영등포'] = 18\n",
        "\n",
        "print(loc_id_map)\n",
        "\n",
        "pm25_loc_df['loc_id'] = pm25_loc_df['loc_name'].map(loc_id_map.get).astype(int)\n",
        "\n",
        "aws = aws_loc_df.drop(['category', 'loc_name', 'latitude', 'longitude'], axis=1)\n",
        "pm25 = pm25_loc_df.drop(['category', 'loc_name', 'latitude', 'longitude'], axis=1)\n",
        "\n",
        "pm25_aws_loc = pd.merge(pm25, aws, how='inner', on=['loc_id'])\n",
        "pm25_aws_loc.rename(columns={'loc_code_x':'pm25_loc_code', 'loc_code_y':'aws_loc_code'}, inplace=True)\n",
        "pm25_aws_loc['loc_id'] = lbl.fit_transform(pm25_aws_loc['pm25_loc_code'])\n",
        "\n",
        "pm25_loc_id = pm25_aws_loc.iloc[:,:2]\n",
        "aws_loc_id = pm25_aws_loc.iloc[:,1:]\n",
        "\n",
        "pm25_loc_id.rename(columns={'pm25_loc_code':'loc_code'}, inplace=True)\n",
        "aws_loc_id.rename(columns={'aws_loc_code':'loc_code'}, inplace=True)\n",
        "'''"
      ],
      "execution_count": 394,
      "outputs": [
        {
          "output_type": "execute_result",
          "data": {
            "application/vnd.google.colaboratory.intrinsic+json": {
              "type": "string"
            },
            "text/plain": [
              "\"\\nfrom sklearn.preprocessing import LabelEncoder\\nlbl = LabelEncoder()\\naws_loc_df['loc_id'] = lbl.fit_transform(aws_loc_df['loc_name'])\\naws_loc_df.head()\\n\\nloc_id_map = aws_loc_df['loc_name'].to_dict()\\npm25_loc_df['loc_name'] = pm25_loc_df['loc_name'].map(lambda x: x[:-1])\\n\\nloc_id_map[22] = '광진'\\nloc_id_map[23] = '동작'\\n\\nloc_id_map = {v: k for k, v in loc_id_map.items()}\\nloc_id_map['종로'] = 10\\nloc_id_map['중'] = 12\\nloc_id_map['영등포'] = 18\\n\\nprint(loc_id_map)\\n\\npm25_loc_df['loc_id'] = pm25_loc_df['loc_name'].map(loc_id_map.get).astype(int)\\n\\naws = aws_loc_df.drop(['category', 'loc_name', 'latitude', 'longitude'], axis=1)\\npm25 = pm25_loc_df.drop(['category', 'loc_name', 'latitude', 'longitude'], axis=1)\\n\\npm25_aws_loc = pd.merge(pm25, aws, how='inner', on=['loc_id'])\\npm25_aws_loc.rename(columns={'loc_code_x':'pm25_loc_code', 'loc_code_y':'aws_loc_code'}, inplace=True)\\npm25_aws_loc['loc_id'] = lbl.fit_transform(pm25_aws_loc['pm25_loc_code'])\\n\\npm25_loc_id = pm25_aws_loc.iloc[:,:2]\\naws_loc_id = pm25_aws_loc.iloc[:,1:]\\n\\npm25_loc_id.rename(columns={'pm25_loc_code':'loc_code'}, inplace=True)\\naws_loc_id.rename(columns={'aws_loc_code':'loc_code'}, inplace=True)\\n\""
            ]
          },
          "metadata": {},
          "execution_count": 394
        }
      ]
    },
    {
      "cell_type": "code",
      "metadata": {
        "id": "rxaILcbSYvoa"
      },
      "source": [
        "# loc_id 정보를 매핑\n",
        "train_input_pm25_df = pd.merge(train_input_pm25_df, pm25_loc_id, how='inner', on=['loc_code'])\n",
        "test_input_pm25_df = pd.merge(test_input_pm25_df, pm25_loc_id, how='inner', on=['loc_code'])\n",
        "\n",
        "train_input_aws_df = pd.merge(train_input_aws_df, aws_loc_id, how='inner', on=['loc_code'])\n",
        "test_input_aws_df = pd.merge(test_input_aws_df, aws_loc_id, how='inner', on=['loc_code'])\n",
        "\n",
        "# 필요 없는 정보는 제거\n",
        "train_input_aws_df = train_input_aws_df.drop(['id', 'loc_code', 'humidity'], axis=1)\n",
        "test_input_aws_df = test_input_aws_df.drop(['id', 'loc_code', 'humidity'], axis=1)"
      ],
      "execution_count": 395,
      "outputs": []
    },
    {
      "cell_type": "code",
      "metadata": {
        "colab": {
          "base_uri": "https://localhost:8080/",
          "height": 86
        },
        "id": "Q3w_m0BXzQR-",
        "outputId": "7e6aec82-3b0b-4d58-ce2d-3c93a8b95a37"
      },
      "source": [
        "'''\n",
        "train_input_pm25_df['datetime'] = pd.to_datetime(train_input_pm25_df['time'], format='%Y%m%d%H')\n",
        "test_input_pm25_df['datetime'] = pd.to_datetime(test_input_pm25_df['time'], format='%Y%m%d%H')\n",
        "train_input_aws_df['datetime'] = pd.to_datetime(train_input_aws_df['time'], format='%Y%m%d%H')\n",
        "test_input_aws_df['datetime'] = pd.to_datetime(test_input_aws_df['time'], format='%Y%m%d%H')\n",
        "'''"
      ],
      "execution_count": 399,
      "outputs": [
        {
          "output_type": "execute_result",
          "data": {
            "application/vnd.google.colaboratory.intrinsic+json": {
              "type": "string"
            },
            "text/plain": [
              "\"\\ntrain_input_pm25_df['datetime'] = pd.to_datetime(train_input_pm25_df['time'], format='%Y%m%d%H')\\ntest_input_pm25_df['datetime'] = pd.to_datetime(test_input_pm25_df['time'], format='%Y%m%d%H')\\ntrain_input_aws_df['datetime'] = pd.to_datetime(train_input_aws_df['time'], format='%Y%m%d%H')\\ntest_input_aws_df['datetime'] = pd.to_datetime(test_input_aws_df['time'], format='%Y%m%d%H')\\n\""
            ]
          },
          "metadata": {},
          "execution_count": 399
        }
      ]
    },
    {
      "cell_type": "code",
      "metadata": {
        "colab": {
          "base_uri": "https://localhost:8080/",
          "height": 103
        },
        "id": "XbHVephQQkWR",
        "outputId": "cdc0cb1e-dff1-43bd-ac5f-31087b22571f"
      },
      "source": [
        "'''\n",
        "from datetime import datetime, timedelta\n",
        "train_input_aws_df['datetime'] = train_input_aws_df['datetime'].apply(lambda x: x - timedelta(hours=24))\n",
        "test_input_aws_df['datetime'] = test_input_aws_df['datetime'].apply(lambda x: x - timedelta(hours=24))\n",
        "\n",
        "def to_integer(dt_time):\n",
        "    return 1000000*dt_time.year + 10000*dt_time.month + 100*dt_time.day + dt_time.hour\n",
        "\n",
        "train_input_aws_df['time'] = train_input_aws_df['datetime'].apply(lambda x: to_integer(x))\n",
        "test_input_aws_df['time'] = test_input_aws_df['datetime'].apply(lambda x: to_integer(x))\n",
        "'''"
      ],
      "execution_count": 400,
      "outputs": [
        {
          "output_type": "execute_result",
          "data": {
            "application/vnd.google.colaboratory.intrinsic+json": {
              "type": "string"
            },
            "text/plain": [
              "\"\\nfrom datetime import datetime, timedelta\\ntrain_input_aws_df['datetime'] = train_input_aws_df['datetime'].apply(lambda x: x - timedelta(hours=24))\\ntest_input_aws_df['datetime'] = test_input_aws_df['datetime'].apply(lambda x: x - timedelta(hours=24))\\n\\ndef to_integer(dt_time):\\n    return 1000000*dt_time.year + 10000*dt_time.month + 100*dt_time.day + dt_time.hour\\n\\ntrain_input_aws_df['time'] = train_input_aws_df['datetime'].apply(lambda x: to_integer(x))\\ntest_input_aws_df['time'] = test_input_aws_df['datetime'].apply(lambda x: to_integer(x))\\n\""
            ]
          },
          "metadata": {},
          "execution_count": 400
        }
      ]
    },
    {
      "cell_type": "code",
      "metadata": {
        "id": "R3850lyUfhCQ"
      },
      "source": [
        "# 훈련 데이터셋, 테스트 데이터셋 생성\n",
        "# pm25 데이터와 aws 데이터를 merge\n",
        "train = pd.merge(train_input_pm25_df, train_input_aws_df, how='left', on=['loc_id', 'time'])\n",
        "test = pd.merge(test_input_pm25_df, test_input_aws_df, how='left', on=['loc_id', 'time'])"
      ],
      "execution_count": 401,
      "outputs": []
    },
    {
      "cell_type": "code",
      "metadata": {
        "id": "Cr5c3lw2jLSR"
      },
      "source": [
        "train['datetime'] = pd.to_datetime(train['time'], format='%Y%m%d%H')\n",
        "test['datetime'] = pd.to_datetime(test['time'], format='%Y%m%d%H')\n",
        "\n",
        "# 결측치 보간\n",
        "train = train.set_index('datetime').interpolate(method='nearest') # (1051200, 9) =>  1051200 = 24(시) *  * 365(일) * 5(년) * 24(관측소)\n",
        "test = test.set_index('datetime').interpolate(method='nearest') # (1051200, 9) =>  1051200 = 24(시) *  * 365(일) * 5(년) * 24(관측소)"
      ],
      "execution_count": 402,
      "outputs": []
    },
    {
      "cell_type": "code",
      "metadata": {
        "colab": {
          "base_uri": "https://localhost:8080/"
        },
        "id": "D93iocpCcnOt",
        "outputId": "386161a1-4da1-4ef5-8f3b-e1821aac0f87"
      },
      "source": [
        "# 결측치 개수 확인\n",
        "print(train.isnull().sum())\n",
        "print(test.isnull().sum())"
      ],
      "execution_count": 404,
      "outputs": [
        {
          "output_type": "stream",
          "name": "stdout",
          "text": [
            "id                 0\n",
            "time               0\n",
            "loc_code           0\n",
            "PM25              25\n",
            "loc_id             0\n",
            "temperature        0\n",
            "wind_direction     0\n",
            "wind_speed         0\n",
            "precipitation      0\n",
            "dtype: int64\n",
            "id                0\n",
            "time              0\n",
            "loc_code          0\n",
            "PM25              0\n",
            "loc_id            0\n",
            "temperature       0\n",
            "wind_direction    0\n",
            "wind_speed        0\n",
            "precipitation     0\n",
            "dtype: int64\n"
          ]
        }
      ]
    },
    {
      "cell_type": "code",
      "metadata": {
        "id": "62-vcf1UOLGa"
      },
      "source": [
        "# 결측치 채우기\n",
        "#train['humidity'] = train['humidity'].fillna(train['humidity'].mean())\n",
        "#test['humidity'] = test['humidity'].fillna(test['humidity'].mean())\n",
        "\n",
        "train = train.fillna(7.0)\n",
        "\n",
        "# train 데이터 길이 변수 생성: 향후 데이터 합치고 나눌 때 사용.\n",
        "split = train.shape[0]"
      ],
      "execution_count": 405,
      "outputs": []
    },
    {
      "cell_type": "code",
      "metadata": {
        "id": "g3yS9bcNdSaB"
      },
      "source": [
        "# 훈련, 검증 데이터셋 통합 total 데이터셋 생성\n",
        "total = pd.concat([train, test])"
      ],
      "execution_count": 407,
      "outputs": []
    },
    {
      "cell_type": "code",
      "metadata": {
        "id": "7wk_oTcVd03M"
      },
      "source": [
        "wv = total.pop('wind_speed')\n",
        "max_wv = wv.max()\n",
        "\n",
        "# Convert to radians.\n",
        "wd_rad = total.pop('wind_direction')*np.pi / 180\n",
        "\n",
        "# Calculate the wind x and y components.\n",
        "total['Wx'] = wv*np.cos(wd_rad)\n",
        "total['Wy'] = wv*np.sin(wd_rad)\n",
        "\n",
        "# Calculate the max wind x and y components.\n",
        "total['max Wx'] = max_wv*np.cos(wd_rad)\n",
        "total['max Wy'] = max_wv*np.sin(wd_rad)"
      ],
      "execution_count": 408,
      "outputs": []
    },
    {
      "cell_type": "code",
      "metadata": {
        "id": "XGX8cC-Nc-Ok"
      },
      "source": [
        "# datetime 정보 변수 생성\n",
        "total = total.reset_index()\n",
        "\n",
        "import datetime\n",
        "timestamp_s = total['datetime'].map(datetime.datetime.timestamp)\n",
        "\n",
        "day = 24*60*60\n",
        "#month = 30*day\n",
        "year = (365.2425)*day\n",
        "\n",
        "total['Day sin'] = np.sin(timestamp_s * (2 * np.pi / day))\n",
        "total['Day cos'] = np.cos(timestamp_s * (2 * np.pi / day))\n",
        "total['Month sin'] = np.sin(timestamp_s * (2 * np.pi / month))\n",
        "total['Month cos'] = np.cos(timestamp_s * (2 * np.pi / month))\n",
        "total['Year sin'] = np.sin(timestamp_s * (2 * np.pi / year))\n",
        "total['Year cos'] = np.cos(timestamp_s * (2 * np.pi / year))"
      ],
      "execution_count": 409,
      "outputs": []
    },
    {
      "cell_type": "code",
      "metadata": {
        "id": "tivD88R1go5g"
      },
      "source": [
        "# 인덱스 set, 필요 없는 loc_id 제거\n",
        "total = total.set_index('datetime')\n",
        "total = total.drop(['loc_id'], axis=1)"
      ],
      "execution_count": 410,
      "outputs": []
    },
    {
      "cell_type": "code",
      "metadata": {
        "id": "0AtpHXbHgVE6"
      },
      "source": [
        "# train, test split\n",
        "train = total[:split][:]\n",
        "test = total[split:][:]"
      ],
      "execution_count": 413,
      "outputs": []
    },
    {
      "cell_type": "code",
      "metadata": {
        "id": "hAXRKwr0xH4N"
      },
      "source": [
        "def reshape_dataframe(df, loc_df):\n",
        "  # reshape the dataframe into 3d array with indexing [loc_code, value, time-id]\n",
        "  # result[loc_code, value, time-id] will give you the values of the 24 hours\n",
        "  len_loc = len(loc_df)\n",
        "  col_values = df.columns[3:]  # not going to use `id`, `time`, `loc_code`\n",
        "  len_values = len(col_values)\n",
        "  len_id = int(df['id'].max()+1)\n",
        "  len_term = 24\n",
        "  result = np.ndarray((len_loc, len_values, len_id, len_term))\n",
        "\n",
        "  # group by loc_code and id\n",
        "  grouped_df = df.groupby(['loc_code', 'id'])\n",
        "  group_keys = list(grouped_df.groups.keys())\n",
        "  group_keys.sort()\n",
        "\n",
        "  for i_key, (loc_key, id_key) in enumerate(group_keys):\n",
        "    i_loc = int(i_key/len_id)\n",
        "    i_key = i_key%len_id\n",
        "    cur_df = grouped_df.get_group((loc_key, id_key))\n",
        "    for icol, col in enumerate(col_values):\n",
        "      result[i_loc][icol][i_key] = cur_df[col].to_numpy()\n",
        "  return result"
      ],
      "execution_count": 414,
      "outputs": []
    },
    {
      "cell_type": "code",
      "metadata": {
        "id": "OAW2DERzxKxy"
      },
      "source": [
        "# 시계열 데이터 훈련에 적합한 numpy array 형태로 변환\n",
        "train = reshape_dataframe(train, pm25_loc_df)\n",
        "test_df = reshape_dataframe(test, pm25_loc_df)\n",
        "\n",
        "days = 1825\n",
        "train_df = train[:,:,:int(days*0.8),:]\n",
        "val_df = train[:,:,int(days*0.8):,:]"
      ],
      "execution_count": 415,
      "outputs": []
    },
    {
      "cell_type": "code",
      "metadata": {
        "id": "h3DbTglu2uyH"
      },
      "source": [
        "# 데이터 정규화\n",
        "train_mean = train.mean()\n",
        "train_std = train.std()\n",
        "\n",
        "train = (train - train_mean) / train_std\n",
        "train_df = (train_df - train_mean) / train_std\n",
        "val_df = (val_df - train_mean) / train_std\n",
        "test_df = (test_df - train_mean) / train_std"
      ],
      "execution_count": 417,
      "outputs": []
    },
    {
      "cell_type": "code",
      "metadata": {
        "id": "apF4TP4x6aTC"
      },
      "source": [
        "# 타겟 데이터 생성\n",
        "train_output_df['datetime'] = pd.to_datetime(train_output_df['time'], format='%Y%m%d%H')\n",
        "train_output_df = train_output_df.set_index('datetime').interpolate(method='time')\n",
        "\n",
        "target = reshape_dataframe(train_output_df, pm25_loc_df)\n",
        "target = (target - train_mean) / train_std"
      ],
      "execution_count": 418,
      "outputs": []
    },
    {
      "cell_type": "code",
      "metadata": {
        "id": "Jnu7yK1qE7ID"
      },
      "source": [
        "X = train.copy()\n",
        "y = target.copy()\n",
        "\n",
        "print(X.shape)\n",
        "print(y.shape)"
      ],
      "execution_count": 421,
      "outputs": []
    },
    {
      "cell_type": "code",
      "metadata": {
        "id": "8PPe8sV-E8W1"
      },
      "source": [
        "# feature 개수\n",
        "num_features = X.shape[1]"
      ],
      "execution_count": 423,
      "outputs": []
    },
    {
      "cell_type": "code",
      "metadata": {
        "colab": {
          "base_uri": "https://localhost:8080/"
        },
        "id": "QqR2hYOG364s",
        "outputId": "5d85d01f-00e4-420d-91be-09ae86218e44"
      },
      "source": [
        "X_train = train_df.copy()\n",
        "X_val = val_df.copy()\n",
        "y_train = target[:,:,:int(days*0.8),:]\n",
        "y_val = target[:,:,int(days*0.8):,:]\n",
        "\n",
        "print(X_train.shape)\n",
        "print(X_val.shape)\n",
        "print(y_train.shape)\n",
        "print(y_val.shape)"
      ],
      "execution_count": 424,
      "outputs": [
        {
          "output_type": "stream",
          "name": "stdout",
          "text": [
            "(25, 13, 1460, 24)\n",
            "(25, 13, 365, 24)\n",
            "(25, 1, 1460, 24)\n",
            "(25, 1, 365, 24)\n"
          ]
        }
      ]
    },
    {
      "cell_type": "code",
      "metadata": {
        "id": "u_ynx401FHgO"
      },
      "source": [
        "X = X.reshape(25*1825, 24, num_features)\n",
        "y = y.reshape(25*1825, 24)\n",
        "\n",
        "X_train = X_train.reshape(25*1460, 24, num_features)\n",
        "X_val = X_val.reshape(25*365, 24, num_features)\n",
        "y_train = y_train.reshape(25*1460, 24)\n",
        "y_val = y_val.reshape(25*365, 24)"
      ],
      "execution_count": 425,
      "outputs": []
    },
    {
      "cell_type": "markdown",
      "metadata": {
        "id": "dzoJ4BTTJHO_"
      },
      "source": [
        "## 3. Model train"
      ]
    },
    {
      "cell_type": "code",
      "metadata": {
        "colab": {
          "base_uri": "https://localhost:8080/",
          "height": 69
        },
        "id": "zQPf3IbU32Yw",
        "outputId": "572d4a87-8708-46d0-ae01-19a7bd5f0ab0"
      },
      "source": [
        "from tensorflow.keras.models import Sequential\n",
        "from tensorflow.keras.layers import LSTM, Dense, TimeDistributed\n",
        "\n",
        "BATCH_SIZE = 256\n",
        "EPOCHS = 10\n",
        "\n",
        "'''\n",
        "model = Sequential()\n",
        "model.add(LSTM(64, activation='relu', return_sequences = True, input_shape=(24, 14)))\n",
        "#model.add(tf.keras.layers.RepeatVector(24))\n",
        "#model.add(LSTM(32, activation='relu', return_sequences=True))\n",
        "model.add(TimeDistributed(Dense(1)))\n",
        "model.compile(optimizer='adam', loss='mse')\n",
        "model.summary()\n",
        "'''\n",
        "\n",
        "model = Sequential()\n",
        "model.add(LSTM(16, activation='relu', return_sequences=True, input_shape=(24,num_features)))\n",
        "model.add(LSTM(16, activation='relu'))\n",
        "model.add(Dense(24))\n",
        "model.compile(optimizer='adam', loss='mse')\n",
        "model.summary()"
      ],
      "execution_count": 428,
      "outputs": [
        {
          "output_type": "execute_result",
          "data": {
            "application/vnd.google.colaboratory.intrinsic+json": {
              "type": "string"
            },
            "text/plain": [
              "\"\\nmodel = Sequential()\\nmodel.add(LSTM(64, activation='relu', return_sequences = True, input_shape=(24, 14)))\\n#model.add(tf.keras.layers.RepeatVector(24))\\n#model.add(LSTM(32, activation='relu', return_sequences=True))\\nmodel.add(TimeDistributed(Dense(1)))\\nmodel.compile(optimizer='adam', loss='mse')\\nmodel.summary()\\n\""
            ]
          },
          "metadata": {},
          "execution_count": 428
        }
      ]
    },
    {
      "cell_type": "code",
      "metadata": {
        "colab": {
          "base_uri": "https://localhost:8080/"
        },
        "id": "DdbLmNaj32bk",
        "outputId": "bca433bb-99a5-4601-a2fa-1b8fc25d1a7c"
      },
      "source": [
        "model_history = model.fit(X_train, y_train, epochs=EPOCHS, batch_size=BATCH_SIZE, validation_data=(X_val, y_val))"
      ],
      "execution_count": 430,
      "outputs": [
        {
          "output_type": "stream",
          "name": "stdout",
          "text": [
            "Epoch 1/10\n",
            "143/143 [==============================] - 23s 147ms/step - loss: 3.9556 - val_loss: 4.1482\n",
            "Epoch 2/10\n",
            "143/143 [==============================] - 21s 145ms/step - loss: 2.5912 - val_loss: 4.0952\n",
            "Epoch 3/10\n",
            "143/143 [==============================] - 21s 149ms/step - loss: 2.5743 - val_loss: 4.1221\n",
            "Epoch 4/10\n",
            "143/143 [==============================] - 21s 148ms/step - loss: 2.5629 - val_loss: 4.1093\n",
            "Epoch 5/10\n",
            "143/143 [==============================] - 21s 148ms/step - loss: 2.5529 - val_loss: 4.0995\n",
            "Epoch 6/10\n",
            "143/143 [==============================] - 21s 148ms/step - loss: 2.5463 - val_loss: 4.1713\n",
            "Epoch 7/10\n",
            "143/143 [==============================] - 21s 147ms/step - loss: 2.5334 - val_loss: 4.2389\n",
            "Epoch 8/10\n",
            "143/143 [==============================] - 21s 147ms/step - loss: 2.5236 - val_loss: 4.3224\n",
            "Epoch 9/10\n",
            "143/143 [==============================] - 21s 146ms/step - loss: 2.5182 - val_loss: 4.1547\n",
            "Epoch 10/10\n",
            "143/143 [==============================] - 21s 146ms/step - loss: 2.4955 - val_loss: 4.2404\n"
          ]
        }
      ]
    },
    {
      "cell_type": "code",
      "metadata": {
        "id": "uIPWdrtf7yAE"
      },
      "source": [
        "test_input = test_df.reshape(25*183, 24, num_features)\n",
        "y_pred = model.predict(test_input)\n",
        "y_pred = (y_pred*train_std) + train_mean\n",
        "y_pred = y_pred.reshape(-1,1)"
      ],
      "execution_count": 432,
      "outputs": []
    },
    {
      "cell_type": "code",
      "metadata": {
        "colab": {
          "base_uri": "https://localhost:8080/"
        },
        "id": "lIeL-ZB33ch4",
        "outputId": "8f25b0d3-e66e-4782-ed96-bb4215fa9acc"
      },
      "source": [
        "y_pred"
      ],
      "execution_count": 436,
      "outputs": [
        {
          "output_type": "execute_result",
          "data": {
            "text/plain": [
              "array([[26.79734 ],\n",
              "       [28.971733],\n",
              "       [29.660122],\n",
              "       ...,\n",
              "       [24.264814],\n",
              "       [24.453518],\n",
              "       [24.68834 ]], dtype=float32)"
            ]
          },
          "metadata": {},
          "execution_count": 436
        }
      ]
    },
    {
      "cell_type": "code",
      "metadata": {
        "id": "BBYMqtDd8RIK"
      },
      "source": [
        "# submission\n",
        "submission['PM25'] = y_pred\n",
        "submission.to_csv('/content/drive/MyDrive/air_submission.csv', index=False)\n",
        "sub_path = '/content/drive/MyDrive/air_submission.csv'"
      ],
      "execution_count": 437,
      "outputs": []
    },
    {
      "cell_type": "code",
      "metadata": {
        "colab": {
          "base_uri": "https://localhost:8080/",
          "height": 419
        },
        "id": "3WRpKLpX4qrW",
        "outputId": "9b8a7d27-bd49-41da-8609-eb1503096877"
      },
      "source": [
        "submission"
      ],
      "execution_count": 438,
      "outputs": [
        {
          "output_type": "execute_result",
          "data": {
            "text/html": [
              "<div>\n",
              "<style scoped>\n",
              "    .dataframe tbody tr th:only-of-type {\n",
              "        vertical-align: middle;\n",
              "    }\n",
              "\n",
              "    .dataframe tbody tr th {\n",
              "        vertical-align: top;\n",
              "    }\n",
              "\n",
              "    .dataframe thead th {\n",
              "        text-align: right;\n",
              "    }\n",
              "</style>\n",
              "<table border=\"1\" class=\"dataframe\">\n",
              "  <thead>\n",
              "    <tr style=\"text-align: right;\">\n",
              "      <th></th>\n",
              "      <th>id</th>\n",
              "      <th>time</th>\n",
              "      <th>loc_code</th>\n",
              "      <th>PM25</th>\n",
              "    </tr>\n",
              "  </thead>\n",
              "  <tbody>\n",
              "    <tr>\n",
              "      <th>0</th>\n",
              "      <td>0</td>\n",
              "      <td>2020010200</td>\n",
              "      <td>111121</td>\n",
              "      <td>26.797340</td>\n",
              "    </tr>\n",
              "    <tr>\n",
              "      <th>1</th>\n",
              "      <td>0</td>\n",
              "      <td>2020010200</td>\n",
              "      <td>111123</td>\n",
              "      <td>28.971733</td>\n",
              "    </tr>\n",
              "    <tr>\n",
              "      <th>2</th>\n",
              "      <td>0</td>\n",
              "      <td>2020010200</td>\n",
              "      <td>111131</td>\n",
              "      <td>29.660122</td>\n",
              "    </tr>\n",
              "    <tr>\n",
              "      <th>3</th>\n",
              "      <td>0</td>\n",
              "      <td>2020010200</td>\n",
              "      <td>111141</td>\n",
              "      <td>29.163088</td>\n",
              "    </tr>\n",
              "    <tr>\n",
              "      <th>4</th>\n",
              "      <td>0</td>\n",
              "      <td>2020010200</td>\n",
              "      <td>111142</td>\n",
              "      <td>28.455427</td>\n",
              "    </tr>\n",
              "    <tr>\n",
              "      <th>...</th>\n",
              "      <td>...</td>\n",
              "      <td>...</td>\n",
              "      <td>...</td>\n",
              "      <td>...</td>\n",
              "    </tr>\n",
              "    <tr>\n",
              "      <th>109795</th>\n",
              "      <td>182</td>\n",
              "      <td>2020123123</td>\n",
              "      <td>111274</td>\n",
              "      <td>23.534342</td>\n",
              "    </tr>\n",
              "    <tr>\n",
              "      <th>109796</th>\n",
              "      <td>182</td>\n",
              "      <td>2020123123</td>\n",
              "      <td>111281</td>\n",
              "      <td>22.901804</td>\n",
              "    </tr>\n",
              "    <tr>\n",
              "      <th>109797</th>\n",
              "      <td>182</td>\n",
              "      <td>2020123123</td>\n",
              "      <td>111291</td>\n",
              "      <td>24.264814</td>\n",
              "    </tr>\n",
              "    <tr>\n",
              "      <th>109798</th>\n",
              "      <td>182</td>\n",
              "      <td>2020123123</td>\n",
              "      <td>111301</td>\n",
              "      <td>24.453518</td>\n",
              "    </tr>\n",
              "    <tr>\n",
              "      <th>109799</th>\n",
              "      <td>182</td>\n",
              "      <td>2020123123</td>\n",
              "      <td>111311</td>\n",
              "      <td>24.688339</td>\n",
              "    </tr>\n",
              "  </tbody>\n",
              "</table>\n",
              "<p>109800 rows × 4 columns</p>\n",
              "</div>"
            ],
            "text/plain": [
              "         id        time  loc_code       PM25\n",
              "0         0  2020010200    111121  26.797340\n",
              "1         0  2020010200    111123  28.971733\n",
              "2         0  2020010200    111131  29.660122\n",
              "3         0  2020010200    111141  29.163088\n",
              "4         0  2020010200    111142  28.455427\n",
              "...     ...         ...       ...        ...\n",
              "109795  182  2020123123    111274  23.534342\n",
              "109796  182  2020123123    111281  22.901804\n",
              "109797  182  2020123123    111291  24.264814\n",
              "109798  182  2020123123    111301  24.453518\n",
              "109799  182  2020123123    111311  24.688339\n",
              "\n",
              "[109800 rows x 4 columns]"
            ]
          },
          "metadata": {},
          "execution_count": 438
        }
      ]
    },
    {
      "cell_type": "code",
      "metadata": {
        "id": "hdkJPqYXg03F"
      },
      "source": [
        "class WindowGenerator():\n",
        "  def __init__(self, input_width, label_width, shift,\n",
        "               train_df=train_df, val_df=val_df, test_df=test_df,\n",
        "               label_columns=None):\n",
        "    # Store the raw data.\n",
        "    self.train_df = train_df\n",
        "    self.val_df = val_df\n",
        "    self.test_df = test_df\n",
        "\n",
        "    # Work out the label column indices.\n",
        "    self.label_columns = label_columns\n",
        "    if label_columns is not None:\n",
        "      self.label_columns_indices = {name: i for i, name in\n",
        "                                    enumerate(label_columns)}\n",
        "    self.column_indices = {name: i for i, name in\n",
        "                           enumerate(train_df.columns)}\n",
        "\n",
        "    # Work out the window parameters.\n",
        "    self.input_width = input_width\n",
        "    self.label_width = label_width\n",
        "    self.shift = shift\n",
        "\n",
        "    self.total_window_size = input_width + shift\n",
        "\n",
        "    self.input_slice = slice(0, input_width)\n",
        "    self.input_indices = np.arange(self.total_window_size)[self.input_slice]\n",
        "\n",
        "    self.label_start = self.total_window_size - self.label_width\n",
        "    self.labels_slice = slice(self.label_start, None)\n",
        "    self.label_indices = np.arange(self.total_window_size)[self.labels_slice]\n",
        "\n",
        "  def __repr__(self):\n",
        "    return '\\n'.join([\n",
        "        f'Total window size: {self.total_window_size}',\n",
        "        f'Input indices: {self.input_indices}',\n",
        "        f'Label indices: {self.label_indices}',\n",
        "        f'Label column name(s): {self.label_columns}'])"
      ],
      "execution_count": 439,
      "outputs": []
    },
    {
      "cell_type": "code",
      "metadata": {
        "colab": {
          "base_uri": "https://localhost:8080/",
          "height": 317
        },
        "id": "3nMYw4U2ifx8",
        "outputId": "005e1e2b-8903-478b-f327-295c5268ae47"
      },
      "source": [
        "w1 = WindowGenerator(input_width=24, label_width=24, shift=24)\n",
        "w1"
      ],
      "execution_count": 440,
      "outputs": [
        {
          "output_type": "error",
          "ename": "AttributeError",
          "evalue": "ignored",
          "traceback": [
            "\u001b[0;31m---------------------------------------------------------------------------\u001b[0m",
            "\u001b[0;31mAttributeError\u001b[0m                            Traceback (most recent call last)",
            "\u001b[0;32m<ipython-input-440-18c98d14c487>\u001b[0m in \u001b[0;36m<module>\u001b[0;34m()\u001b[0m\n\u001b[0;32m----> 1\u001b[0;31m \u001b[0mw1\u001b[0m \u001b[0;34m=\u001b[0m \u001b[0mWindowGenerator\u001b[0m\u001b[0;34m(\u001b[0m\u001b[0minput_width\u001b[0m\u001b[0;34m=\u001b[0m\u001b[0;36m24\u001b[0m\u001b[0;34m,\u001b[0m \u001b[0mlabel_width\u001b[0m\u001b[0;34m=\u001b[0m\u001b[0;36m24\u001b[0m\u001b[0;34m,\u001b[0m \u001b[0mshift\u001b[0m\u001b[0;34m=\u001b[0m\u001b[0;36m24\u001b[0m\u001b[0;34m)\u001b[0m\u001b[0;34m\u001b[0m\u001b[0;34m\u001b[0m\u001b[0m\n\u001b[0m\u001b[1;32m      2\u001b[0m \u001b[0mw1\u001b[0m\u001b[0;34m\u001b[0m\u001b[0;34m\u001b[0m\u001b[0m\n",
            "\u001b[0;32m<ipython-input-439-645dbb36e2db>\u001b[0m in \u001b[0;36m__init__\u001b[0;34m(self, input_width, label_width, shift, train_df, val_df, test_df, label_columns)\u001b[0m\n\u001b[1;32m     14\u001b[0m                                     enumerate(label_columns)}\n\u001b[1;32m     15\u001b[0m     self.column_indices = {name: i for i, name in\n\u001b[0;32m---> 16\u001b[0;31m                            enumerate(train_df.columns)}\n\u001b[0m\u001b[1;32m     17\u001b[0m \u001b[0;34m\u001b[0m\u001b[0m\n\u001b[1;32m     18\u001b[0m     \u001b[0;31m# Work out the window parameters.\u001b[0m\u001b[0;34m\u001b[0m\u001b[0;34m\u001b[0m\u001b[0;34m\u001b[0m\u001b[0m\n",
            "\u001b[0;31mAttributeError\u001b[0m: 'numpy.ndarray' object has no attribute 'columns'"
          ]
        }
      ]
    },
    {
      "cell_type": "code",
      "metadata": {
        "id": "2DgqLy5Qjdhu"
      },
      "source": [
        "def split_window(self, features):\n",
        "  inputs = features[:, self.input_slice, :]\n",
        "  labels = features[:, self.labels_slice, :]\n",
        "  if self.label_columns is not None:\n",
        "    labels = tf.stack(\n",
        "        [labels[:, :, self.column_indices[name]] for name in self.label_columns],\n",
        "        axis=-1)\n",
        "\n",
        "  # Slicing doesn't preserve static shape information, so set the shapes\n",
        "  # manually. This way the `tf.data.Datasets` are easier to inspect.\n",
        "  inputs.set_shape([None, self.input_width, None])\n",
        "  labels.set_shape([None, self.label_width, None])\n",
        "\n",
        "  return inputs, labels\n",
        "\n",
        "WindowGenerator.split_window = split_window"
      ],
      "execution_count": null,
      "outputs": []
    },
    {
      "cell_type": "code",
      "metadata": {
        "id": "Lnq2oiiojrTI"
      },
      "source": [
        "# Stack three slices, the length of the total window:\n",
        "example_window = tf.stack([np.array(train_df[:w1.total_window_size]),\n",
        "                           np.array(train_df[100:100+w1.total_window_size]),\n",
        "                           np.array(train_df[200:200+w1.total_window_size])])\n",
        "\n",
        "\n",
        "example_inputs, example_labels = w1.split_window(example_window)\n",
        "\n",
        "print('All shapes are: (batch, time, features)')\n",
        "print(f'Window shape: {example_window.shape}')\n",
        "print(f'Inputs shape: {example_inputs.shape}')\n",
        "print(f'labels shape: {example_labels.shape}')"
      ],
      "execution_count": null,
      "outputs": []
    },
    {
      "cell_type": "code",
      "metadata": {
        "id": "n9_2CeUXjtbp"
      },
      "source": [
        "def plot(self, model=None, plot_col='PM25', max_subplots=3):\n",
        "  inputs, labels = self.example\n",
        "  plt.figure(figsize=(12, 8))\n",
        "  plot_col_index = self.column_indices[plot_col]\n",
        "  max_n = min(max_subplots, len(inputs))\n",
        "  for n in range(max_n):\n",
        "    plt.subplot(3, 1, n+1)\n",
        "    plt.ylabel(f'{plot_col} [normed]')\n",
        "    plt.plot(self.input_indices, inputs[n, :, plot_col_index],\n",
        "             label='Inputs', marker='.', zorder=-10)\n",
        "\n",
        "    if self.label_columns:\n",
        "      label_col_index = self.label_columns_indices.get(plot_col, None)\n",
        "    else:\n",
        "      label_col_index = plot_col_index\n",
        "\n",
        "    if label_col_index is None:\n",
        "      continue\n",
        "\n",
        "    plt.scatter(self.label_indices, labels[n, :, label_col_index],\n",
        "                edgecolors='k', label='Labels', c='#2ca02c', s=64)\n",
        "    if model is not None:\n",
        "      predictions = model(inputs)\n",
        "      plt.scatter(self.label_indices, predictions[n, :, label_col_index],\n",
        "                  marker='X', edgecolors='k', label='Predictions',\n",
        "                  c='#ff7f0e', s=64)\n",
        "\n",
        "    if n == 0:\n",
        "      plt.legend()\n",
        "\n",
        "  plt.xlabel('Time [h]')\n",
        "\n",
        "WindowGenerator.plot = plot"
      ],
      "execution_count": null,
      "outputs": []
    },
    {
      "cell_type": "code",
      "metadata": {
        "id": "FbMS-GUBkBPI"
      },
      "source": [
        "w1.example = example_inputs, example_labels"
      ],
      "execution_count": null,
      "outputs": []
    },
    {
      "cell_type": "code",
      "metadata": {
        "id": "8V7xF399j4sc"
      },
      "source": [
        "w1.plot()"
      ],
      "execution_count": null,
      "outputs": []
    },
    {
      "cell_type": "code",
      "metadata": {
        "id": "wK9NP1QZj6xT"
      },
      "source": [
        "def make_dataset(self, data):\n",
        "  data = np.array(data, dtype=np.float32)\n",
        "  ds = tf.keras.preprocessing.timeseries_dataset_from_array(\n",
        "      data=data,\n",
        "      targets=None,\n",
        "      sequence_length=self.total_window_size,\n",
        "      sequence_stride=1,\n",
        "      shuffle=True,\n",
        "      batch_size=32)\n",
        "\n",
        "  ds = ds.map(self.split_window)\n",
        "\n",
        "  return ds\n",
        "\n",
        "WindowGenerator.make_dataset = make_dataset"
      ],
      "execution_count": null,
      "outputs": []
    },
    {
      "cell_type": "code",
      "metadata": {
        "id": "ByOx4zGAkQrp"
      },
      "source": [
        "@property\n",
        "def train(self):\n",
        "  return self.make_dataset(self.train_df)\n",
        "\n",
        "@property\n",
        "def val(self):\n",
        "  return self.make_dataset(self.val_df)\n",
        "\n",
        "@property\n",
        "def test(self):\n",
        "  return self.make_dataset(self.test_df)\n",
        "\n",
        "@property\n",
        "def example(self):\n",
        "  \"\"\"Get and cache an example batch of `inputs, labels` for plotting.\"\"\"\n",
        "  result = getattr(self, '_example', None)\n",
        "  if result is None:\n",
        "    # No example batch was found, so get one from the `.train` dataset\n",
        "    result = next(iter(self.train))\n",
        "    # And cache it for next time\n",
        "    self._example = result\n",
        "  return result\n",
        "\n",
        "WindowGenerator.train = train\n",
        "WindowGenerator.val = val\n",
        "WindowGenerator.test = test\n",
        "WindowGenerator.example = example"
      ],
      "execution_count": null,
      "outputs": []
    },
    {
      "cell_type": "code",
      "metadata": {
        "id": "6jri96L5kU4q"
      },
      "source": [
        "# Each element is an (inputs, label) pair\n",
        "w1.train.element_spec"
      ],
      "execution_count": null,
      "outputs": []
    },
    {
      "cell_type": "code",
      "metadata": {
        "id": "-Fbi8rojkXfa"
      },
      "source": [
        "for example_inputs, example_labels in w1.train.take(1):\n",
        "  print(f'Inputs shape (batch, time, features): {example_inputs.shape}')\n",
        "  print(f'Labels shape (batch, time, features): {example_labels.shape}')"
      ],
      "execution_count": null,
      "outputs": []
    },
    {
      "cell_type": "code",
      "metadata": {
        "id": "DQR87a-7lCov"
      },
      "source": [
        "class Baseline(tf.keras.Model):\n",
        "  def __init__(self, label_index=None):\n",
        "    super().__init__()\n",
        "    self.label_index = label_index\n",
        "\n",
        "  def call(self, inputs):\n",
        "    if self.label_index is None:\n",
        "      return inputs\n",
        "    result = inputs[:, :, self.label_index]\n",
        "    return result[:, :, tf.newaxis]"
      ],
      "execution_count": null,
      "outputs": []
    },
    {
      "cell_type": "code",
      "metadata": {
        "id": "OujkElHflK-u"
      },
      "source": [
        "MAX_EPOCHS = 20\n",
        "\n",
        "def compile_and_fit(model, window, patience=2):\n",
        "  early_stopping = tf.keras.callbacks.EarlyStopping(monitor='val_loss',\n",
        "                                                    patience=patience,\n",
        "                                                    mode='min')\n",
        "\n",
        "  model.compile(loss=tf.losses.MeanSquaredError(),\n",
        "                optimizer=tf.optimizers.Adam(),\n",
        "                metrics=[tf.metrics.MeanAbsoluteError()])\n",
        "\n",
        "  history = model.fit(window.train, epochs=MAX_EPOCHS,\n",
        "                      callbacks=[early_stopping])\n",
        "  return history"
      ],
      "execution_count": null,
      "outputs": []
    },
    {
      "cell_type": "code",
      "metadata": {
        "id": "EHYYofghlbpD"
      },
      "source": [
        "single_step_window = WindowGenerator(\n",
        "    # `WindowGenerator` returns all features as labels if you \n",
        "    # don't set the `label_columns` argument.\n",
        "    input_width=1, label_width=1, shift=1)\n",
        "\n",
        "wide_window = WindowGenerator(\n",
        "    input_width=24, label_width=24, shift=24, label_columns=['PM25'])\n",
        "\n",
        "for example_inputs, example_labels in wide_window.train.take(1):\n",
        "  print(f'Inputs shape (batch, time, features): {example_inputs.shape}')\n",
        "  print(f'Labels shape (batch, time, features): {example_labels.shape}')"
      ],
      "execution_count": null,
      "outputs": []
    },
    {
      "cell_type": "code",
      "metadata": {
        "id": "ekZcNwZrtn--"
      },
      "source": [
        "lstm_model = tf.keras.models.Sequential([\n",
        "    # Shape [batch, time, features] => [batch, time, lstm_units]\n",
        "    tf.keras.layers.LSTM(32, return_sequences=True),\n",
        "    # Shape => [batch, time, features]\n",
        "    tf.keras.layers.Dense(units=1)\n",
        "])"
      ],
      "execution_count": null,
      "outputs": []
    },
    {
      "cell_type": "code",
      "metadata": {
        "id": "UOVgrtUzursi"
      },
      "source": [
        "print('Input shape:', wide_window.example[0].shape)\n",
        "print('Output shape:', lstm_model(wide_window.example[0]).shape)"
      ],
      "execution_count": null,
      "outputs": []
    },
    {
      "cell_type": "code",
      "metadata": {
        "id": "O8Ibqa1WtrdS"
      },
      "source": [
        "history = compile_and_fit(lstm_model, wide_window)\n",
        "\n",
        "IPython.display.clear_output()\n",
        "val_performance['LSTM'] = lstm_model.evaluate(wide_window.val)\n",
        "performance['LSTM'] = lstm_model.evaluate(wide_window.test, verbose=0)"
      ],
      "execution_count": null,
      "outputs": []
    },
    {
      "cell_type": "code",
      "metadata": {
        "id": "WVxm6by-u8a0"
      },
      "source": [
        "wide_window.test"
      ],
      "execution_count": null,
      "outputs": []
    },
    {
      "cell_type": "code",
      "metadata": {
        "id": "RHAHDf2TkafS"
      },
      "source": [
        "baseline = Baseline()\n",
        "baseline.compile(loss=tf.losses.MeanSquaredError(),\n",
        "                 metrics=[tf.metrics.MeanAbsoluteError()])"
      ],
      "execution_count": null,
      "outputs": []
    },
    {
      "cell_type": "code",
      "metadata": {
        "id": "wN83ACc9kyl6"
      },
      "source": [
        "val_performance = {}\n",
        "performance = {}\n",
        "val_performance['Baseline'] = baseline.evaluate(wide_window.val)\n",
        "performance['Baseline'] = baseline.evaluate(wide_window.test, verbose=0)"
      ],
      "execution_count": null,
      "outputs": []
    },
    {
      "cell_type": "code",
      "metadata": {
        "id": "6NAACnQLqKF2"
      },
      "source": [
        "performance"
      ],
      "execution_count": null,
      "outputs": []
    },
    {
      "cell_type": "code",
      "metadata": {
        "id": "EU3otTtXqNnT"
      },
      "source": [
        "MAX_EPOCHS = 5"
      ],
      "execution_count": null,
      "outputs": []
    },
    {
      "cell_type": "code",
      "metadata": {
        "id": "-6tD5Sp6liJw"
      },
      "source": [
        "%%time\n",
        "wide_window = WindowGenerator(\n",
        "    input_width=24, label_width=24, shift=1)\n",
        "\n",
        "lstm_model = tf.keras.models.Sequential([\n",
        "    # Shape [batch, time, features] => [batch, time, lstm_units]\n",
        "    tf.keras.layers.LSTM(32, return_sequences=True),\n",
        "    # Shape => [batch, time, features]\n",
        "    tf.keras.layers.Dense(units=num_features)\n",
        "])\n",
        "\n",
        "history = compile_and_fit(lstm_model, wide_window)\n",
        "\n",
        "IPython.display.clear_output()\n",
        "val_performance['LSTM'] = lstm_model.evaluate( wide_window.val)\n",
        "performance['LSTM'] = lstm_model.evaluate( wide_window.test, verbose=0)\n",
        "\n",
        "print()"
      ],
      "execution_count": null,
      "outputs": []
    },
    {
      "cell_type": "code",
      "metadata": {
        "id": "lx-oK6Q4nWyi"
      },
      "source": [
        "y_pred = lstm_model.predict(wide_window.test)"
      ],
      "execution_count": null,
      "outputs": []
    },
    {
      "cell_type": "code",
      "metadata": {
        "id": "2_CqgmmwoAzw"
      },
      "source": [
        "y_pred.shape"
      ],
      "execution_count": null,
      "outputs": []
    },
    {
      "cell_type": "code",
      "metadata": {
        "id": "JVx_SG0lq6Tt"
      },
      "source": [
        "y_pred"
      ],
      "execution_count": null,
      "outputs": []
    },
    {
      "cell_type": "code",
      "metadata": {
        "id": "_RBMNajeqmMs"
      },
      "source": [
        "submission.shape"
      ],
      "execution_count": null,
      "outputs": []
    },
    {
      "cell_type": "code",
      "metadata": {
        "id": "qAWHHOlLq9C8"
      },
      "source": [
        ""
      ],
      "execution_count": null,
      "outputs": []
    }
  ]
}